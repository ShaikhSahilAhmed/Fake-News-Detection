{
  "nbformat": 4,
  "nbformat_minor": 0,
  "metadata": {
    "accelerator": "GPU",
    "colab": {
      "name": "BERT_fnn.ipynb",
      "provenance": [],
      "collapsed_sections": [],
      "toc_visible": true
    },
    "kernelspec": {
      "display_name": "Python 3",
      "language": "python",
      "name": "python3"
    },
    "language_info": {
      "codemirror_mode": {
        "name": "ipython",
        "version": 3
      },
      "file_extension": ".py",
      "mimetype": "text/x-python",
      "name": "python",
      "nbconvert_exporter": "python",
      "pygments_lexer": "ipython3",
      "version": "3.7.8"
    },
    "widgets": {
      "application/vnd.jupyter.widget-state+json": {
        "4dc8fe0d17c84114b4d0154e8366f1bd": {
          "model_module": "@jupyter-widgets/controls",
          "model_name": "HBoxModel",
          "state": {
            "_view_name": "HBoxView",
            "_dom_classes": [],
            "_model_name": "HBoxModel",
            "_view_module": "@jupyter-widgets/controls",
            "_model_module_version": "1.5.0",
            "_view_count": null,
            "_view_module_version": "1.5.0",
            "box_style": "",
            "layout": "IPY_MODEL_7c1866b346124f72b113322fdb15c44c",
            "_model_module": "@jupyter-widgets/controls",
            "children": [
              "IPY_MODEL_d830f45edcca401fb3b5179df884ff97",
              "IPY_MODEL_296c4eb408724d2a926257e534718838"
            ]
          }
        },
        "7c1866b346124f72b113322fdb15c44c": {
          "model_module": "@jupyter-widgets/base",
          "model_name": "LayoutModel",
          "state": {
            "_view_name": "LayoutView",
            "grid_template_rows": null,
            "right": null,
            "justify_content": null,
            "_view_module": "@jupyter-widgets/base",
            "overflow": null,
            "_model_module_version": "1.2.0",
            "_view_count": null,
            "flex_flow": null,
            "width": null,
            "min_width": null,
            "border": null,
            "align_items": null,
            "bottom": null,
            "_model_module": "@jupyter-widgets/base",
            "top": null,
            "grid_column": null,
            "overflow_y": null,
            "overflow_x": null,
            "grid_auto_flow": null,
            "grid_area": null,
            "grid_template_columns": null,
            "flex": null,
            "_model_name": "LayoutModel",
            "justify_items": null,
            "grid_row": null,
            "max_height": null,
            "align_content": null,
            "visibility": null,
            "align_self": null,
            "height": null,
            "min_height": null,
            "padding": null,
            "grid_auto_rows": null,
            "grid_gap": null,
            "max_width": null,
            "order": null,
            "_view_module_version": "1.2.0",
            "grid_template_areas": null,
            "object_position": null,
            "object_fit": null,
            "grid_auto_columns": null,
            "margin": null,
            "display": null,
            "left": null
          }
        },
        "d830f45edcca401fb3b5179df884ff97": {
          "model_module": "@jupyter-widgets/controls",
          "model_name": "FloatProgressModel",
          "state": {
            "_view_name": "ProgressView",
            "style": "IPY_MODEL_2b6edc3040c44087a9a35b15249df661",
            "_dom_classes": [],
            "description": "Downloading: 100%",
            "_model_name": "FloatProgressModel",
            "bar_style": "success",
            "max": 231508,
            "_view_module": "@jupyter-widgets/controls",
            "_model_module_version": "1.5.0",
            "value": 231508,
            "_view_count": null,
            "_view_module_version": "1.5.0",
            "orientation": "horizontal",
            "min": 0,
            "description_tooltip": null,
            "_model_module": "@jupyter-widgets/controls",
            "layout": "IPY_MODEL_df2e9a985e47437cb70ba540afb93fd8"
          }
        },
        "296c4eb408724d2a926257e534718838": {
          "model_module": "@jupyter-widgets/controls",
          "model_name": "HTMLModel",
          "state": {
            "_view_name": "HTMLView",
            "style": "IPY_MODEL_8ca834f527c94017b8b7f12ce10037e9",
            "_dom_classes": [],
            "description": "",
            "_model_name": "HTMLModel",
            "placeholder": "​",
            "_view_module": "@jupyter-widgets/controls",
            "_model_module_version": "1.5.0",
            "value": " 232k/232k [00:00&lt;00:00, 309kB/s]",
            "_view_count": null,
            "_view_module_version": "1.5.0",
            "description_tooltip": null,
            "_model_module": "@jupyter-widgets/controls",
            "layout": "IPY_MODEL_d5c08447a7974684afee62d4145fe1ef"
          }
        },
        "2b6edc3040c44087a9a35b15249df661": {
          "model_module": "@jupyter-widgets/controls",
          "model_name": "ProgressStyleModel",
          "state": {
            "_view_name": "StyleView",
            "_model_name": "ProgressStyleModel",
            "description_width": "initial",
            "_view_module": "@jupyter-widgets/base",
            "_model_module_version": "1.5.0",
            "_view_count": null,
            "_view_module_version": "1.2.0",
            "bar_color": null,
            "_model_module": "@jupyter-widgets/controls"
          }
        },
        "df2e9a985e47437cb70ba540afb93fd8": {
          "model_module": "@jupyter-widgets/base",
          "model_name": "LayoutModel",
          "state": {
            "_view_name": "LayoutView",
            "grid_template_rows": null,
            "right": null,
            "justify_content": null,
            "_view_module": "@jupyter-widgets/base",
            "overflow": null,
            "_model_module_version": "1.2.0",
            "_view_count": null,
            "flex_flow": null,
            "width": null,
            "min_width": null,
            "border": null,
            "align_items": null,
            "bottom": null,
            "_model_module": "@jupyter-widgets/base",
            "top": null,
            "grid_column": null,
            "overflow_y": null,
            "overflow_x": null,
            "grid_auto_flow": null,
            "grid_area": null,
            "grid_template_columns": null,
            "flex": null,
            "_model_name": "LayoutModel",
            "justify_items": null,
            "grid_row": null,
            "max_height": null,
            "align_content": null,
            "visibility": null,
            "align_self": null,
            "height": null,
            "min_height": null,
            "padding": null,
            "grid_auto_rows": null,
            "grid_gap": null,
            "max_width": null,
            "order": null,
            "_view_module_version": "1.2.0",
            "grid_template_areas": null,
            "object_position": null,
            "object_fit": null,
            "grid_auto_columns": null,
            "margin": null,
            "display": null,
            "left": null
          }
        },
        "8ca834f527c94017b8b7f12ce10037e9": {
          "model_module": "@jupyter-widgets/controls",
          "model_name": "DescriptionStyleModel",
          "state": {
            "_view_name": "StyleView",
            "_model_name": "DescriptionStyleModel",
            "description_width": "",
            "_view_module": "@jupyter-widgets/base",
            "_model_module_version": "1.5.0",
            "_view_count": null,
            "_view_module_version": "1.2.0",
            "_model_module": "@jupyter-widgets/controls"
          }
        },
        "d5c08447a7974684afee62d4145fe1ef": {
          "model_module": "@jupyter-widgets/base",
          "model_name": "LayoutModel",
          "state": {
            "_view_name": "LayoutView",
            "grid_template_rows": null,
            "right": null,
            "justify_content": null,
            "_view_module": "@jupyter-widgets/base",
            "overflow": null,
            "_model_module_version": "1.2.0",
            "_view_count": null,
            "flex_flow": null,
            "width": null,
            "min_width": null,
            "border": null,
            "align_items": null,
            "bottom": null,
            "_model_module": "@jupyter-widgets/base",
            "top": null,
            "grid_column": null,
            "overflow_y": null,
            "overflow_x": null,
            "grid_auto_flow": null,
            "grid_area": null,
            "grid_template_columns": null,
            "flex": null,
            "_model_name": "LayoutModel",
            "justify_items": null,
            "grid_row": null,
            "max_height": null,
            "align_content": null,
            "visibility": null,
            "align_self": null,
            "height": null,
            "min_height": null,
            "padding": null,
            "grid_auto_rows": null,
            "grid_gap": null,
            "max_width": null,
            "order": null,
            "_view_module_version": "1.2.0",
            "grid_template_areas": null,
            "object_position": null,
            "object_fit": null,
            "grid_auto_columns": null,
            "margin": null,
            "display": null,
            "left": null
          }
        },
        "f70c6bb312794300abd8e3a1f3177e4c": {
          "model_module": "@jupyter-widgets/controls",
          "model_name": "HBoxModel",
          "state": {
            "_view_name": "HBoxView",
            "_dom_classes": [],
            "_model_name": "HBoxModel",
            "_view_module": "@jupyter-widgets/controls",
            "_model_module_version": "1.5.0",
            "_view_count": null,
            "_view_module_version": "1.5.0",
            "box_style": "",
            "layout": "IPY_MODEL_902ec052ae2443b6a1ededca7a16055c",
            "_model_module": "@jupyter-widgets/controls",
            "children": [
              "IPY_MODEL_ae51dc8bf3ae4808b282783256ac72a2",
              "IPY_MODEL_8f42ff5868ae494187b3f1d4a2394246"
            ]
          }
        },
        "902ec052ae2443b6a1ededca7a16055c": {
          "model_module": "@jupyter-widgets/base",
          "model_name": "LayoutModel",
          "state": {
            "_view_name": "LayoutView",
            "grid_template_rows": null,
            "right": null,
            "justify_content": null,
            "_view_module": "@jupyter-widgets/base",
            "overflow": null,
            "_model_module_version": "1.2.0",
            "_view_count": null,
            "flex_flow": null,
            "width": null,
            "min_width": null,
            "border": null,
            "align_items": null,
            "bottom": null,
            "_model_module": "@jupyter-widgets/base",
            "top": null,
            "grid_column": null,
            "overflow_y": null,
            "overflow_x": null,
            "grid_auto_flow": null,
            "grid_area": null,
            "grid_template_columns": null,
            "flex": null,
            "_model_name": "LayoutModel",
            "justify_items": null,
            "grid_row": null,
            "max_height": null,
            "align_content": null,
            "visibility": null,
            "align_self": null,
            "height": null,
            "min_height": null,
            "padding": null,
            "grid_auto_rows": null,
            "grid_gap": null,
            "max_width": null,
            "order": null,
            "_view_module_version": "1.2.0",
            "grid_template_areas": null,
            "object_position": null,
            "object_fit": null,
            "grid_auto_columns": null,
            "margin": null,
            "display": null,
            "left": null
          }
        },
        "ae51dc8bf3ae4808b282783256ac72a2": {
          "model_module": "@jupyter-widgets/controls",
          "model_name": "FloatProgressModel",
          "state": {
            "_view_name": "ProgressView",
            "style": "IPY_MODEL_3177bf2b0e8b428a95cbbbce03df35b5",
            "_dom_classes": [],
            "description": "Downloading: 100%",
            "_model_name": "FloatProgressModel",
            "bar_style": "success",
            "max": 433,
            "_view_module": "@jupyter-widgets/controls",
            "_model_module_version": "1.5.0",
            "value": 433,
            "_view_count": null,
            "_view_module_version": "1.5.0",
            "orientation": "horizontal",
            "min": 0,
            "description_tooltip": null,
            "_model_module": "@jupyter-widgets/controls",
            "layout": "IPY_MODEL_c6c4dd7269c2420b9e86e54026a7e3af"
          }
        },
        "8f42ff5868ae494187b3f1d4a2394246": {
          "model_module": "@jupyter-widgets/controls",
          "model_name": "HTMLModel",
          "state": {
            "_view_name": "HTMLView",
            "style": "IPY_MODEL_39cea6a47f1e4868a9c65c0447bbbba5",
            "_dom_classes": [],
            "description": "",
            "_model_name": "HTMLModel",
            "placeholder": "​",
            "_view_module": "@jupyter-widgets/controls",
            "_model_module_version": "1.5.0",
            "value": " 433/433 [00:00&lt;00:00, 462B/s]",
            "_view_count": null,
            "_view_module_version": "1.5.0",
            "description_tooltip": null,
            "_model_module": "@jupyter-widgets/controls",
            "layout": "IPY_MODEL_adaa9c63a7e74bdaa093dabf17a0765e"
          }
        },
        "3177bf2b0e8b428a95cbbbce03df35b5": {
          "model_module": "@jupyter-widgets/controls",
          "model_name": "ProgressStyleModel",
          "state": {
            "_view_name": "StyleView",
            "_model_name": "ProgressStyleModel",
            "description_width": "initial",
            "_view_module": "@jupyter-widgets/base",
            "_model_module_version": "1.5.0",
            "_view_count": null,
            "_view_module_version": "1.2.0",
            "bar_color": null,
            "_model_module": "@jupyter-widgets/controls"
          }
        },
        "c6c4dd7269c2420b9e86e54026a7e3af": {
          "model_module": "@jupyter-widgets/base",
          "model_name": "LayoutModel",
          "state": {
            "_view_name": "LayoutView",
            "grid_template_rows": null,
            "right": null,
            "justify_content": null,
            "_view_module": "@jupyter-widgets/base",
            "overflow": null,
            "_model_module_version": "1.2.0",
            "_view_count": null,
            "flex_flow": null,
            "width": null,
            "min_width": null,
            "border": null,
            "align_items": null,
            "bottom": null,
            "_model_module": "@jupyter-widgets/base",
            "top": null,
            "grid_column": null,
            "overflow_y": null,
            "overflow_x": null,
            "grid_auto_flow": null,
            "grid_area": null,
            "grid_template_columns": null,
            "flex": null,
            "_model_name": "LayoutModel",
            "justify_items": null,
            "grid_row": null,
            "max_height": null,
            "align_content": null,
            "visibility": null,
            "align_self": null,
            "height": null,
            "min_height": null,
            "padding": null,
            "grid_auto_rows": null,
            "grid_gap": null,
            "max_width": null,
            "order": null,
            "_view_module_version": "1.2.0",
            "grid_template_areas": null,
            "object_position": null,
            "object_fit": null,
            "grid_auto_columns": null,
            "margin": null,
            "display": null,
            "left": null
          }
        },
        "39cea6a47f1e4868a9c65c0447bbbba5": {
          "model_module": "@jupyter-widgets/controls",
          "model_name": "DescriptionStyleModel",
          "state": {
            "_view_name": "StyleView",
            "_model_name": "DescriptionStyleModel",
            "description_width": "",
            "_view_module": "@jupyter-widgets/base",
            "_model_module_version": "1.5.0",
            "_view_count": null,
            "_view_module_version": "1.2.0",
            "_model_module": "@jupyter-widgets/controls"
          }
        },
        "adaa9c63a7e74bdaa093dabf17a0765e": {
          "model_module": "@jupyter-widgets/base",
          "model_name": "LayoutModel",
          "state": {
            "_view_name": "LayoutView",
            "grid_template_rows": null,
            "right": null,
            "justify_content": null,
            "_view_module": "@jupyter-widgets/base",
            "overflow": null,
            "_model_module_version": "1.2.0",
            "_view_count": null,
            "flex_flow": null,
            "width": null,
            "min_width": null,
            "border": null,
            "align_items": null,
            "bottom": null,
            "_model_module": "@jupyter-widgets/base",
            "top": null,
            "grid_column": null,
            "overflow_y": null,
            "overflow_x": null,
            "grid_auto_flow": null,
            "grid_area": null,
            "grid_template_columns": null,
            "flex": null,
            "_model_name": "LayoutModel",
            "justify_items": null,
            "grid_row": null,
            "max_height": null,
            "align_content": null,
            "visibility": null,
            "align_self": null,
            "height": null,
            "min_height": null,
            "padding": null,
            "grid_auto_rows": null,
            "grid_gap": null,
            "max_width": null,
            "order": null,
            "_view_module_version": "1.2.0",
            "grid_template_areas": null,
            "object_position": null,
            "object_fit": null,
            "grid_auto_columns": null,
            "margin": null,
            "display": null,
            "left": null
          }
        },
        "f3628ee76626446fb027486f4e0148d8": {
          "model_module": "@jupyter-widgets/controls",
          "model_name": "HBoxModel",
          "state": {
            "_view_name": "HBoxView",
            "_dom_classes": [],
            "_model_name": "HBoxModel",
            "_view_module": "@jupyter-widgets/controls",
            "_model_module_version": "1.5.0",
            "_view_count": null,
            "_view_module_version": "1.5.0",
            "box_style": "",
            "layout": "IPY_MODEL_b9ff7cfb200b4be89d72091713e454d8",
            "_model_module": "@jupyter-widgets/controls",
            "children": [
              "IPY_MODEL_4f86fc9a1a2e4f1388644cc17e784d2f",
              "IPY_MODEL_d8a59f45cab04c779c482b5272662bb8"
            ]
          }
        },
        "b9ff7cfb200b4be89d72091713e454d8": {
          "model_module": "@jupyter-widgets/base",
          "model_name": "LayoutModel",
          "state": {
            "_view_name": "LayoutView",
            "grid_template_rows": null,
            "right": null,
            "justify_content": null,
            "_view_module": "@jupyter-widgets/base",
            "overflow": null,
            "_model_module_version": "1.2.0",
            "_view_count": null,
            "flex_flow": null,
            "width": null,
            "min_width": null,
            "border": null,
            "align_items": null,
            "bottom": null,
            "_model_module": "@jupyter-widgets/base",
            "top": null,
            "grid_column": null,
            "overflow_y": null,
            "overflow_x": null,
            "grid_auto_flow": null,
            "grid_area": null,
            "grid_template_columns": null,
            "flex": null,
            "_model_name": "LayoutModel",
            "justify_items": null,
            "grid_row": null,
            "max_height": null,
            "align_content": null,
            "visibility": null,
            "align_self": null,
            "height": null,
            "min_height": null,
            "padding": null,
            "grid_auto_rows": null,
            "grid_gap": null,
            "max_width": null,
            "order": null,
            "_view_module_version": "1.2.0",
            "grid_template_areas": null,
            "object_position": null,
            "object_fit": null,
            "grid_auto_columns": null,
            "margin": null,
            "display": null,
            "left": null
          }
        },
        "4f86fc9a1a2e4f1388644cc17e784d2f": {
          "model_module": "@jupyter-widgets/controls",
          "model_name": "FloatProgressModel",
          "state": {
            "_view_name": "ProgressView",
            "style": "IPY_MODEL_ec1780d0ad5341aa91424ac1116cfba2",
            "_dom_classes": [],
            "description": "Downloading: 100%",
            "_model_name": "FloatProgressModel",
            "bar_style": "success",
            "max": 440473133,
            "_view_module": "@jupyter-widgets/controls",
            "_model_module_version": "1.5.0",
            "value": 440473133,
            "_view_count": null,
            "_view_module_version": "1.5.0",
            "orientation": "horizontal",
            "min": 0,
            "description_tooltip": null,
            "_model_module": "@jupyter-widgets/controls",
            "layout": "IPY_MODEL_190f0a1dcfc84bfa982852aa78b4881d"
          }
        },
        "d8a59f45cab04c779c482b5272662bb8": {
          "model_module": "@jupyter-widgets/controls",
          "model_name": "HTMLModel",
          "state": {
            "_view_name": "HTMLView",
            "style": "IPY_MODEL_57065cba953143ba945151f4611470d6",
            "_dom_classes": [],
            "description": "",
            "_model_name": "HTMLModel",
            "placeholder": "​",
            "_view_module": "@jupyter-widgets/controls",
            "_model_module_version": "1.5.0",
            "value": " 440M/440M [00:25&lt;00:00, 17.4MB/s]",
            "_view_count": null,
            "_view_module_version": "1.5.0",
            "description_tooltip": null,
            "_model_module": "@jupyter-widgets/controls",
            "layout": "IPY_MODEL_37aaced74a74430b9eeb41170626f122"
          }
        },
        "ec1780d0ad5341aa91424ac1116cfba2": {
          "model_module": "@jupyter-widgets/controls",
          "model_name": "ProgressStyleModel",
          "state": {
            "_view_name": "StyleView",
            "_model_name": "ProgressStyleModel",
            "description_width": "initial",
            "_view_module": "@jupyter-widgets/base",
            "_model_module_version": "1.5.0",
            "_view_count": null,
            "_view_module_version": "1.2.0",
            "bar_color": null,
            "_model_module": "@jupyter-widgets/controls"
          }
        },
        "190f0a1dcfc84bfa982852aa78b4881d": {
          "model_module": "@jupyter-widgets/base",
          "model_name": "LayoutModel",
          "state": {
            "_view_name": "LayoutView",
            "grid_template_rows": null,
            "right": null,
            "justify_content": null,
            "_view_module": "@jupyter-widgets/base",
            "overflow": null,
            "_model_module_version": "1.2.0",
            "_view_count": null,
            "flex_flow": null,
            "width": null,
            "min_width": null,
            "border": null,
            "align_items": null,
            "bottom": null,
            "_model_module": "@jupyter-widgets/base",
            "top": null,
            "grid_column": null,
            "overflow_y": null,
            "overflow_x": null,
            "grid_auto_flow": null,
            "grid_area": null,
            "grid_template_columns": null,
            "flex": null,
            "_model_name": "LayoutModel",
            "justify_items": null,
            "grid_row": null,
            "max_height": null,
            "align_content": null,
            "visibility": null,
            "align_self": null,
            "height": null,
            "min_height": null,
            "padding": null,
            "grid_auto_rows": null,
            "grid_gap": null,
            "max_width": null,
            "order": null,
            "_view_module_version": "1.2.0",
            "grid_template_areas": null,
            "object_position": null,
            "object_fit": null,
            "grid_auto_columns": null,
            "margin": null,
            "display": null,
            "left": null
          }
        },
        "57065cba953143ba945151f4611470d6": {
          "model_module": "@jupyter-widgets/controls",
          "model_name": "DescriptionStyleModel",
          "state": {
            "_view_name": "StyleView",
            "_model_name": "DescriptionStyleModel",
            "description_width": "",
            "_view_module": "@jupyter-widgets/base",
            "_model_module_version": "1.5.0",
            "_view_count": null,
            "_view_module_version": "1.2.0",
            "_model_module": "@jupyter-widgets/controls"
          }
        },
        "37aaced74a74430b9eeb41170626f122": {
          "model_module": "@jupyter-widgets/base",
          "model_name": "LayoutModel",
          "state": {
            "_view_name": "LayoutView",
            "grid_template_rows": null,
            "right": null,
            "justify_content": null,
            "_view_module": "@jupyter-widgets/base",
            "overflow": null,
            "_model_module_version": "1.2.0",
            "_view_count": null,
            "flex_flow": null,
            "width": null,
            "min_width": null,
            "border": null,
            "align_items": null,
            "bottom": null,
            "_model_module": "@jupyter-widgets/base",
            "top": null,
            "grid_column": null,
            "overflow_y": null,
            "overflow_x": null,
            "grid_auto_flow": null,
            "grid_area": null,
            "grid_template_columns": null,
            "flex": null,
            "_model_name": "LayoutModel",
            "justify_items": null,
            "grid_row": null,
            "max_height": null,
            "align_content": null,
            "visibility": null,
            "align_self": null,
            "height": null,
            "min_height": null,
            "padding": null,
            "grid_auto_rows": null,
            "grid_gap": null,
            "max_width": null,
            "order": null,
            "_view_module_version": "1.2.0",
            "grid_template_areas": null,
            "object_position": null,
            "object_fit": null,
            "grid_auto_columns": null,
            "margin": null,
            "display": null,
            "left": null
          }
        }
      }
    }
  },
  "cells": [
    {
      "cell_type": "code",
      "metadata": {
        "colab": {
          "base_uri": "https://localhost:8080/"
        },
        "id": "IxfFhy59BiJE",
        "outputId": "669237f7-e682-4b0b-8c24-8fb5719b4a05"
      },
      "source": [
        "import numpy as np # linear algebra\n",
        "import pandas as pd # data processing, CSV file I/O (e.g. pd.read_csv)\n",
        "\n",
        "\n",
        "from google.colab import drive\n",
        "drive.mount('/content/gdrive')\n"
      ],
      "execution_count": 1,
      "outputs": [
        {
          "output_type": "stream",
          "text": [
            "Mounted at /content/gdrive\n"
          ],
          "name": "stdout"
        }
      ]
    },
    {
      "cell_type": "code",
      "metadata": {
        "colab": {
          "base_uri": "https://localhost:8080/"
        },
        "id": "dNwTQef3Zs_-",
        "outputId": "c51ce431-228b-4919-e154-44af64698be2"
      },
      "source": [
        "!pip install pytorch-transformers\n",
        "!pip install transformers\n",
        "!pip install nltk\n"
      ],
      "execution_count": 2,
      "outputs": [
        {
          "output_type": "stream",
          "text": [
            "Collecting pytorch-transformers\n",
            "\u001b[?25l  Downloading https://files.pythonhosted.org/packages/a3/b7/d3d18008a67e0b968d1ab93ad444fc05699403fa662f634b2f2c318a508b/pytorch_transformers-1.2.0-py3-none-any.whl (176kB)\n",
            "\r\u001b[K     |█▉                              | 10kB 14.8MB/s eta 0:00:01\r\u001b[K     |███▊                            | 20kB 9.4MB/s eta 0:00:01\r\u001b[K     |█████▋                          | 30kB 7.8MB/s eta 0:00:01\r\u001b[K     |███████▍                        | 40kB 7.1MB/s eta 0:00:01\r\u001b[K     |█████████▎                      | 51kB 4.3MB/s eta 0:00:01\r\u001b[K     |███████████▏                    | 61kB 4.8MB/s eta 0:00:01\r\u001b[K     |█████████████                   | 71kB 4.9MB/s eta 0:00:01\r\u001b[K     |██████████████▉                 | 81kB 5.3MB/s eta 0:00:01\r\u001b[K     |████████████████▊               | 92kB 5.4MB/s eta 0:00:01\r\u001b[K     |██████████████████▋             | 102kB 4.2MB/s eta 0:00:01\r\u001b[K     |████████████████████▍           | 112kB 4.2MB/s eta 0:00:01\r\u001b[K     |██████████████████████▎         | 122kB 4.2MB/s eta 0:00:01\r\u001b[K     |████████████████████████▏       | 133kB 4.2MB/s eta 0:00:01\r\u001b[K     |██████████████████████████      | 143kB 4.2MB/s eta 0:00:01\r\u001b[K     |███████████████████████████▉    | 153kB 4.2MB/s eta 0:00:01\r\u001b[K     |█████████████████████████████▊  | 163kB 4.2MB/s eta 0:00:01\r\u001b[K     |███████████████████████████████▋| 174kB 4.2MB/s eta 0:00:01\r\u001b[K     |████████████████████████████████| 184kB 4.2MB/s \n",
            "\u001b[?25hRequirement already satisfied: tqdm in /usr/local/lib/python3.7/dist-packages (from pytorch-transformers) (4.41.1)\n",
            "Collecting boto3\n",
            "\u001b[?25l  Downloading https://files.pythonhosted.org/packages/28/d6/9cd710f83cafa07dee064157c39eed54a863f600e74a01ee9876cdf97c71/boto3-1.17.28-py2.py3-none-any.whl (131kB)\n",
            "\u001b[K     |████████████████████████████████| 133kB 7.2MB/s \n",
            "\u001b[?25hCollecting sacremoses\n",
            "\u001b[?25l  Downloading https://files.pythonhosted.org/packages/7d/34/09d19aff26edcc8eb2a01bed8e98f13a1537005d31e95233fd48216eed10/sacremoses-0.0.43.tar.gz (883kB)\n",
            "\u001b[K     |████████████████████████████████| 890kB 7.3MB/s \n",
            "\u001b[?25hCollecting sentencepiece\n",
            "\u001b[?25l  Downloading https://files.pythonhosted.org/packages/f5/99/e0808cb947ba10f575839c43e8fafc9cc44e4a7a2c8f79c60db48220a577/sentencepiece-0.1.95-cp37-cp37m-manylinux2014_x86_64.whl (1.2MB)\n",
            "\u001b[K     |████████████████████████████████| 1.2MB 13.2MB/s \n",
            "\u001b[?25hRequirement already satisfied: numpy in /usr/local/lib/python3.7/dist-packages (from pytorch-transformers) (1.19.5)\n",
            "Requirement already satisfied: requests in /usr/local/lib/python3.7/dist-packages (from pytorch-transformers) (2.23.0)\n",
            "Requirement already satisfied: torch>=1.0.0 in /usr/local/lib/python3.7/dist-packages (from pytorch-transformers) (1.8.0+cu101)\n",
            "Requirement already satisfied: regex in /usr/local/lib/python3.7/dist-packages (from pytorch-transformers) (2019.12.20)\n",
            "Collecting s3transfer<0.4.0,>=0.3.0\n",
            "\u001b[?25l  Downloading https://files.pythonhosted.org/packages/ea/43/4b4a1b26eb03a429a4c37ca7fdf369d938bd60018fc194e94b8379b0c77c/s3transfer-0.3.4-py2.py3-none-any.whl (69kB)\n",
            "\u001b[K     |████████████████████████████████| 71kB 7.4MB/s \n",
            "\u001b[?25hCollecting jmespath<1.0.0,>=0.7.1\n",
            "  Downloading https://files.pythonhosted.org/packages/07/cb/5f001272b6faeb23c1c9e0acc04d48eaaf5c862c17709d20e3469c6e0139/jmespath-0.10.0-py2.py3-none-any.whl\n",
            "Collecting botocore<1.21.0,>=1.20.28\n",
            "\u001b[?25l  Downloading https://files.pythonhosted.org/packages/fd/c4/6e706aabe97689e4ecd6337df2f014cb05b90737d0292d9e50593d3df8d9/botocore-1.20.28.tar.gz (7.5MB)\n",
            "\u001b[K     |████████████████████████████████| 7.5MB 16.3MB/s \n",
            "\u001b[?25hRequirement already satisfied: six in /usr/local/lib/python3.7/dist-packages (from sacremoses->pytorch-transformers) (1.15.0)\n",
            "Requirement already satisfied: click in /usr/local/lib/python3.7/dist-packages (from sacremoses->pytorch-transformers) (7.1.2)\n",
            "Requirement already satisfied: joblib in /usr/local/lib/python3.7/dist-packages (from sacremoses->pytorch-transformers) (1.0.1)\n",
            "Requirement already satisfied: chardet<4,>=3.0.2 in /usr/local/lib/python3.7/dist-packages (from requests->pytorch-transformers) (3.0.4)\n",
            "Requirement already satisfied: idna<3,>=2.5 in /usr/local/lib/python3.7/dist-packages (from requests->pytorch-transformers) (2.10)\n",
            "Requirement already satisfied: urllib3!=1.25.0,!=1.25.1,<1.26,>=1.21.1 in /usr/local/lib/python3.7/dist-packages (from requests->pytorch-transformers) (1.24.3)\n",
            "Requirement already satisfied: certifi>=2017.4.17 in /usr/local/lib/python3.7/dist-packages (from requests->pytorch-transformers) (2020.12.5)\n",
            "Requirement already satisfied: typing-extensions in /usr/local/lib/python3.7/dist-packages (from torch>=1.0.0->pytorch-transformers) (3.7.4.3)\n",
            "Requirement already satisfied: python-dateutil<3.0.0,>=2.1 in /usr/local/lib/python3.7/dist-packages (from botocore<1.21.0,>=1.20.28->boto3->pytorch-transformers) (2.8.1)\n",
            "Building wheels for collected packages: sacremoses, botocore\n",
            "  Building wheel for sacremoses (setup.py) ... \u001b[?25l\u001b[?25hdone\n",
            "  Created wheel for sacremoses: filename=sacremoses-0.0.43-cp37-none-any.whl size=893262 sha256=616088ef0150f6356a96c5869703565fcb6affe839c3866fbd7844182646a5d0\n",
            "  Stored in directory: /root/.cache/pip/wheels/29/3c/fd/7ce5c3f0666dab31a50123635e6fb5e19ceb42ce38d4e58f45\n",
            "  Building wheel for botocore (setup.py) ... \u001b[?25l\u001b[?25hdone\n",
            "  Created wheel for botocore: filename=botocore-1.20.28-py2.py3-none-any.whl size=7303118 sha256=b7e5868586d85772679174e459862372027df09eecc03eaeaff9034a4be09c0e\n",
            "  Stored in directory: /root/.cache/pip/wheels/da/85/10/a4f53726e555424e94b20b09a665aeec426a384765bd058fbd\n",
            "Successfully built sacremoses botocore\n",
            "\u001b[31mERROR: botocore 1.20.28 has requirement urllib3<1.27,>=1.25.4, but you'll have urllib3 1.24.3 which is incompatible.\u001b[0m\n",
            "Installing collected packages: jmespath, botocore, s3transfer, boto3, sacremoses, sentencepiece, pytorch-transformers\n",
            "Successfully installed boto3-1.17.28 botocore-1.20.28 jmespath-0.10.0 pytorch-transformers-1.2.0 s3transfer-0.3.4 sacremoses-0.0.43 sentencepiece-0.1.95\n",
            "Collecting transformers\n",
            "\u001b[?25l  Downloading https://files.pythonhosted.org/packages/f9/54/5ca07ec9569d2f232f3166de5457b63943882f7950ddfcc887732fc7fb23/transformers-4.3.3-py3-none-any.whl (1.9MB)\n",
            "\u001b[K     |████████████████████████████████| 1.9MB 4.3MB/s \n",
            "\u001b[?25hRequirement already satisfied: tqdm>=4.27 in /usr/local/lib/python3.7/dist-packages (from transformers) (4.41.1)\n",
            "Requirement already satisfied: sacremoses in /usr/local/lib/python3.7/dist-packages (from transformers) (0.0.43)\n",
            "Requirement already satisfied: filelock in /usr/local/lib/python3.7/dist-packages (from transformers) (3.0.12)\n",
            "Requirement already satisfied: requests in /usr/local/lib/python3.7/dist-packages (from transformers) (2.23.0)\n",
            "Requirement already satisfied: numpy>=1.17 in /usr/local/lib/python3.7/dist-packages (from transformers) (1.19.5)\n",
            "Requirement already satisfied: regex!=2019.12.17 in /usr/local/lib/python3.7/dist-packages (from transformers) (2019.12.20)\n",
            "Requirement already satisfied: importlib-metadata; python_version < \"3.8\" in /usr/local/lib/python3.7/dist-packages (from transformers) (3.7.2)\n",
            "Collecting tokenizers<0.11,>=0.10.1\n",
            "\u001b[?25l  Downloading https://files.pythonhosted.org/packages/71/23/2ddc317b2121117bf34dd00f5b0de194158f2a44ee2bf5e47c7166878a97/tokenizers-0.10.1-cp37-cp37m-manylinux2010_x86_64.whl (3.2MB)\n",
            "\u001b[K     |████████████████████████████████| 3.2MB 36.1MB/s \n",
            "\u001b[?25hRequirement already satisfied: packaging in /usr/local/lib/python3.7/dist-packages (from transformers) (20.9)\n",
            "Requirement already satisfied: six in /usr/local/lib/python3.7/dist-packages (from sacremoses->transformers) (1.15.0)\n",
            "Requirement already satisfied: joblib in /usr/local/lib/python3.7/dist-packages (from sacremoses->transformers) (1.0.1)\n",
            "Requirement already satisfied: click in /usr/local/lib/python3.7/dist-packages (from sacremoses->transformers) (7.1.2)\n",
            "Requirement already satisfied: certifi>=2017.4.17 in /usr/local/lib/python3.7/dist-packages (from requests->transformers) (2020.12.5)\n",
            "Requirement already satisfied: urllib3!=1.25.0,!=1.25.1,<1.26,>=1.21.1 in /usr/local/lib/python3.7/dist-packages (from requests->transformers) (1.24.3)\n",
            "Requirement already satisfied: chardet<4,>=3.0.2 in /usr/local/lib/python3.7/dist-packages (from requests->transformers) (3.0.4)\n",
            "Requirement already satisfied: idna<3,>=2.5 in /usr/local/lib/python3.7/dist-packages (from requests->transformers) (2.10)\n",
            "Requirement already satisfied: zipp>=0.5 in /usr/local/lib/python3.7/dist-packages (from importlib-metadata; python_version < \"3.8\"->transformers) (3.4.1)\n",
            "Requirement already satisfied: typing-extensions>=3.6.4; python_version < \"3.8\" in /usr/local/lib/python3.7/dist-packages (from importlib-metadata; python_version < \"3.8\"->transformers) (3.7.4.3)\n",
            "Requirement already satisfied: pyparsing>=2.0.2 in /usr/local/lib/python3.7/dist-packages (from packaging->transformers) (2.4.7)\n",
            "Installing collected packages: tokenizers, transformers\n",
            "Successfully installed tokenizers-0.10.1 transformers-4.3.3\n",
            "Requirement already satisfied: nltk in /usr/local/lib/python3.7/dist-packages (3.2.5)\n",
            "Requirement already satisfied: six in /usr/local/lib/python3.7/dist-packages (from nltk) (1.15.0)\n"
          ],
          "name": "stdout"
        }
      ]
    },
    {
      "cell_type": "code",
      "metadata": {
        "colab": {
          "base_uri": "https://localhost:8080/"
        },
        "id": "z_wQ6zaBBBxG",
        "outputId": "9ff0d7c2-7366-4eb0-889b-820f6288c980"
      },
      "source": [
        "!pip install tweet-preprocessor"
      ],
      "execution_count": 3,
      "outputs": [
        {
          "output_type": "stream",
          "text": [
            "Collecting tweet-preprocessor\n",
            "  Downloading https://files.pythonhosted.org/packages/17/9d/71bd016a9edcef8860c607e531f30bd09b13103c7951ae73dd2bf174163c/tweet_preprocessor-0.6.0-py3-none-any.whl\n",
            "Installing collected packages: tweet-preprocessor\n",
            "Successfully installed tweet-preprocessor-0.6.0\n"
          ],
          "name": "stdout"
        }
      ]
    },
    {
      "cell_type": "code",
      "metadata": {
        "colab": {
          "base_uri": "https://localhost:8080/"
        },
        "id": "b4UVghcaWJ6Y",
        "outputId": "7f9bdb01-b551-410a-ab55-2a5377360671"
      },
      "source": [
        "import nltk\n",
        "nltk.download('punkt')\n",
        "nltk.download('wordnet')\n",
        "nltk.download('stopwords')"
      ],
      "execution_count": 4,
      "outputs": [
        {
          "output_type": "stream",
          "text": [
            "[nltk_data] Downloading package punkt to /root/nltk_data...\n",
            "[nltk_data]   Unzipping tokenizers/punkt.zip.\n",
            "[nltk_data] Downloading package wordnet to /root/nltk_data...\n",
            "[nltk_data]   Unzipping corpora/wordnet.zip.\n",
            "[nltk_data] Downloading package stopwords to /root/nltk_data...\n",
            "[nltk_data]   Unzipping corpora/stopwords.zip.\n"
          ],
          "name": "stdout"
        },
        {
          "output_type": "execute_result",
          "data": {
            "text/plain": [
              "True"
            ]
          },
          "metadata": {
            "tags": []
          },
          "execution_count": 4
        }
      ]
    },
    {
      "cell_type": "code",
      "metadata": {
        "id": "uP3tG3qRZvja"
      },
      "source": [
        "import torch\n",
        "from torch.utils.data import TensorDataset, DataLoader, RandomSampler, SequentialSampler\n",
        "from keras.preprocessing.sequence import pad_sequences\n",
        "from sklearn.model_selection import train_test_split\n",
        "import preprocessor as p\n",
        "\n",
        "from transformers import XLMModel, BertTokenizer, BertForSequenceClassification, RobertaTokenizerFast, RobertaForSequenceClassification\n",
        "from transformers import AdamW\n",
        "import nltk\n",
        "from nltk.stem import \tWordNetLemmatizer\n",
        "from nltk.stem.porter import PorterStemmer\n",
        "from nltk.corpus import stopwords\n",
        "stop_words = set(stopwords.words('english'))\n",
        "\n",
        "from tqdm import tqdm, trange\n",
        "import pandas as pd\n",
        "import io\n",
        "import numpy as np\n",
        "import matplotlib.pyplot as plt\n",
        "# % matplotlib inline\n"
      ],
      "execution_count": 5,
      "outputs": []
    },
    {
      "cell_type": "code",
      "metadata": {
        "colab": {
          "base_uri": "https://localhost:8080/",
          "height": 35
        },
        "id": "QYohf8eQZvmI",
        "outputId": "66827b9d-73fd-490b-abf2-df7a309810ff"
      },
      "source": [
        "device = torch.device(\"cuda\" if torch.cuda.is_available() else \"cpu\")\n",
        "n_gpu = torch.cuda.device_count()\n",
        "torch.cuda.get_device_name(0)\n"
      ],
      "execution_count": 6,
      "outputs": [
        {
          "output_type": "execute_result",
          "data": {
            "application/vnd.google.colaboratory.intrinsic+json": {
              "type": "string"
            },
            "text/plain": [
              "'Tesla K80'"
            ]
          },
          "metadata": {
            "tags": []
          },
          "execution_count": 6
        }
      ]
    },
    {
      "cell_type": "code",
      "metadata": {
        "id": "ktFMU77mAuLo"
      },
      "source": [
        "MAX_LEN = 128"
      ],
      "execution_count": 7,
      "outputs": []
    },
    {
      "cell_type": "code",
      "metadata": {
        "id": "H-9BIVc_aJb3"
      },
      "source": [
        "train=pd.read_csv('/content/gdrive/MyDrive/4th_sem/dataset/FakeNewsNet/fnn_train.csv')\n"
      ],
      "execution_count": 20,
      "outputs": []
    },
    {
      "cell_type": "code",
      "metadata": {
        "id": "wFl24RkuTpZS"
      },
      "source": [
        "train = train.rename(columns={ 'fullText_based_content' : 'text'})\n",
        "train = train.rename(columns={ 'label_fnn' : 'label'})\n",
        "train.loc[train['label'] == 'fake', 'label'] = '0'\n",
        "train.loc[train['label'] == 'real', 'label'] = '1'"
      ],
      "execution_count": 21,
      "outputs": []
    },
    {
      "cell_type": "code",
      "metadata": {
        "colab": {
          "base_uri": "https://localhost:8080/"
        },
        "id": "-RPZY0ybSqQh",
        "outputId": "1b360418-beae-4e1c-e0f7-284cc97cadc1"
      },
      "source": [
        "train.shape"
      ],
      "execution_count": 18,
      "outputs": [
        {
          "output_type": "execute_result",
          "data": {
            "text/plain": [
              "(15212, 8)"
            ]
          },
          "metadata": {
            "tags": []
          },
          "execution_count": 18
        }
      ]
    },
    {
      "cell_type": "code",
      "metadata": {
        "colab": {
          "base_uri": "https://localhost:8080/",
          "height": 418
        },
        "id": "8S9MSCkqRuCD",
        "outputId": "6b078e0e-0cc6-4ce5-b9e3-2dd664acac1c"
      },
      "source": [
        "train.head()"
      ],
      "execution_count": 22,
      "outputs": [
        {
          "output_type": "execute_result",
          "data": {
            "text/html": [
              "<div>\n",
              "<style scoped>\n",
              "    .dataframe tbody tr th:only-of-type {\n",
              "        vertical-align: middle;\n",
              "    }\n",
              "\n",
              "    .dataframe tbody tr th {\n",
              "        vertical-align: top;\n",
              "    }\n",
              "\n",
              "    .dataframe thead th {\n",
              "        text-align: right;\n",
              "    }\n",
              "</style>\n",
              "<table border=\"1\" class=\"dataframe\">\n",
              "  <thead>\n",
              "    <tr style=\"text-align: right;\">\n",
              "      <th></th>\n",
              "      <th>id</th>\n",
              "      <th>date</th>\n",
              "      <th>speaker</th>\n",
              "      <th>statement</th>\n",
              "      <th>sources</th>\n",
              "      <th>paragraph_based_content</th>\n",
              "      <th>text</th>\n",
              "      <th>label</th>\n",
              "    </tr>\n",
              "  </thead>\n",
              "  <tbody>\n",
              "    <tr>\n",
              "      <th>0</th>\n",
              "      <td>3106</td>\n",
              "      <td>2011-01-25T06:00:00-05:00</td>\n",
              "      <td>Joe Wilkinson</td>\n",
              "      <td>A national organization says Georgia has one o...</td>\n",
              "      <td>['http://www.ajc.com/news/georgia-politics-ele...</td>\n",
              "      <td>['A coalition of government watchdog groups la...</td>\n",
              "      <td>A coalition of government watchdog groups last...</td>\n",
              "      <td>0</td>\n",
              "    </tr>\n",
              "    <tr>\n",
              "      <th>1</th>\n",
              "      <td>5655</td>\n",
              "      <td>2012-04-02T11:42:20-04:00</td>\n",
              "      <td>Rick Scott</td>\n",
              "      <td>Says Barack Obama's health care law \"will be t...</td>\n",
              "      <td>['http://www.youtube.com/watch?v=TaC0mKApf9Q&amp;f...</td>\n",
              "      <td>['As Supreme Court justices embarked on three ...</td>\n",
              "      <td>As Supreme Court justices embarked on three da...</td>\n",
              "      <td>0</td>\n",
              "    </tr>\n",
              "    <tr>\n",
              "      <th>2</th>\n",
              "      <td>3506</td>\n",
              "      <td>2011-04-01T09:49:05-04:00</td>\n",
              "      <td>J.D. Alexander</td>\n",
              "      <td>Says the Southwest Florida Water Management Di...</td>\n",
              "      <td>['http://www.tampabay.com/news/politics/gubern...</td>\n",
              "      <td>[\"Here's a new one: The Senate budget committe...</td>\n",
              "      <td>Here's a new one: The Senate budget committee ...</td>\n",
              "      <td>0</td>\n",
              "    </tr>\n",
              "    <tr>\n",
              "      <th>3</th>\n",
              "      <td>3450</td>\n",
              "      <td>2011-03-21T12:20:02-04:00</td>\n",
              "      <td>Paul Ryan</td>\n",
              "      <td>\"The Congressional Budget Office has this econ...</td>\n",
              "      <td>['http://www.cnn.com/2011/POLITICS/03/17/gop.b...</td>\n",
              "      <td>['Recently, House Budget chairman Paul Ryan, R...</td>\n",
              "      <td>Recently, House Budget chairman Paul Ryan, R-W...</td>\n",
              "      <td>1</td>\n",
              "    </tr>\n",
              "    <tr>\n",
              "      <th>4</th>\n",
              "      <td>4776</td>\n",
              "      <td>2011-11-13T07:30:00-05:00</td>\n",
              "      <td>Rodney Frelinghuysen</td>\n",
              "      <td>Says the Treasury Department \"says 41 percent ...</td>\n",
              "      <td>['http://frelinghuysen.house.gov/index.cfm?sec...</td>\n",
              "      <td>['The millionaires’ tax proposal made its late...</td>\n",
              "      <td>The millionaires’ tax proposal made its latest...</td>\n",
              "      <td>0</td>\n",
              "    </tr>\n",
              "  </tbody>\n",
              "</table>\n",
              "</div>"
            ],
            "text/plain": [
              "     id  ... label\n",
              "0  3106  ...     0\n",
              "1  5655  ...     0\n",
              "2  3506  ...     0\n",
              "3  3450  ...     1\n",
              "4  4776  ...     0\n",
              "\n",
              "[5 rows x 8 columns]"
            ]
          },
          "metadata": {
            "tags": []
          },
          "execution_count": 22
        }
      ]
    },
    {
      "cell_type": "code",
      "metadata": {
        "colab": {
          "base_uri": "https://localhost:8080/"
        },
        "id": "SlueRHCYBb_G",
        "outputId": "5ca8ffa4-28ef-45ab-a691-95ab47f01644"
      },
      "source": [
        "df, val_df, test_df = np.split(train.sample(frac=1), [int(.6*len(train)), int(.8*len(train))])\n",
        "\n",
        "df = df.reset_index(drop=True)\n",
        "val_df = val_df.reset_index(drop=True)\n",
        "test_df = test_df.reset_index(drop=True)\n",
        "\n",
        "\n",
        "print(\"Size of training set: {}\".format(len(df)))\n",
        "print(\"Size of validation set: {}\".format(len(val_df)))\n",
        "print(\"Size of testing set: {}\".format(len(test_df)))"
      ],
      "execution_count": 23,
      "outputs": [
        {
          "output_type": "stream",
          "text": [
            "Size of training set: 9127\n",
            "Size of validation set: 3042\n",
            "Size of testing set: 3043\n"
          ],
          "name": "stdout"
        }
      ]
    },
    {
      "cell_type": "code",
      "metadata": {
        "id": "Gtf--uEfVE7C"
      },
      "source": [
        "wordnet_lemmatizer = WordNetLemmatizer()\n",
        "porter_stemmer  = PorterStemmer()\n"
      ],
      "execution_count": 24,
      "outputs": []
    },
    {
      "cell_type": "code",
      "metadata": {
        "id": "EOO9UH0GvVSB"
      },
      "source": [
        "p.set_options(p.OPT.URL, p.OPT.EMOJI)\n",
        "\n",
        "def preprocess(row, lemmatizer, stemmer):\n",
        "    text = row['text']\n",
        "    # text = text.strip('\\xa0')\n",
        "    text = p.clean(text)\n",
        "    tokenization = nltk.word_tokenize(text)     \n",
        "    tokenization = [w for w in tokenization if not w in stop_words]\n",
        "    #   text = ' '.join([porter_stemmer.stem(w) for w in tokenization])\n",
        "    #   text = ' '.join([lemmatizer.lemmatize(w) for w in tokenization])\n",
        "    # text = re.sub(r'\\([0-9]+\\)', '', text).strip()    \n",
        "    return text\n"
      ],
      "execution_count": 25,
      "outputs": []
    },
    {
      "cell_type": "code",
      "metadata": {
        "id": "SnpJ27eIvVU2"
      },
      "source": [
        "df['text'] = df.apply(lambda x: preprocess(x, wordnet_lemmatizer, porter_stemmer), 1)\n",
        "val_df['text'] = val_df.apply(lambda x: preprocess(x, wordnet_lemmatizer, porter_stemmer), 1)\n",
        "test_df['text'] = test_df.apply(lambda x: preprocess(x, wordnet_lemmatizer, porter_stemmer), 1)\n"
      ],
      "execution_count": 26,
      "outputs": []
    },
    {
      "cell_type": "code",
      "metadata": {
        "id": "_dHcpDJmbgaK"
      },
      "source": [
        "def map_label(row):\n",
        "    return 0 if row['label']=='1' else 1\n",
        "\n",
        "df['label_encoded'] = df.apply(lambda x: map_label(x), 1)\n",
        "val_df['label_encoded'] = val_df.apply(lambda x: map_label(x), 1)\n",
        "# test_df['label_encoded'] = test_df.apply(lambda x: map_label(x), 1)\n"
      ],
      "execution_count": 27,
      "outputs": []
    },
    {
      "cell_type": "code",
      "metadata": {
        "id": "nkGKyR6ki-QQ"
      },
      "source": [
        "train_sentences = df.text.values\n",
        "val_sentences = val_df.text.values\n",
        "test_sentences = test_df.text.values\n",
        "\n",
        "train_labels = df.label_encoded.values\n",
        "val_labels = val_df.label_encoded.values\n"
      ],
      "execution_count": 28,
      "outputs": []
    },
    {
      "cell_type": "code",
      "metadata": {
        "id": "wpPMXUDuAuLv",
        "colab": {
          "base_uri": "https://localhost:8080/",
          "height": 65,
          "referenced_widgets": [
            "4dc8fe0d17c84114b4d0154e8366f1bd",
            "7c1866b346124f72b113322fdb15c44c",
            "d830f45edcca401fb3b5179df884ff97",
            "296c4eb408724d2a926257e534718838",
            "2b6edc3040c44087a9a35b15249df661",
            "df2e9a985e47437cb70ba540afb93fd8",
            "8ca834f527c94017b8b7f12ce10037e9",
            "d5c08447a7974684afee62d4145fe1ef"
          ]
        },
        "outputId": "e323a23c-bb86-434e-bad9-5f5ad72da540"
      },
      "source": [
        "tokenizer = BertTokenizer.from_pretrained('bert-base-uncased', do_lower_case=True)\n"
      ],
      "execution_count": 29,
      "outputs": [
        {
          "output_type": "display_data",
          "data": {
            "application/vnd.jupyter.widget-view+json": {
              "model_id": "4dc8fe0d17c84114b4d0154e8366f1bd",
              "version_minor": 0,
              "version_major": 2
            },
            "text/plain": [
              "HBox(children=(FloatProgress(value=0.0, description='Downloading', max=231508.0, style=ProgressStyle(descripti…"
            ]
          },
          "metadata": {
            "tags": []
          }
        },
        {
          "output_type": "stream",
          "text": [
            "\n"
          ],
          "name": "stdout"
        }
      ]
    },
    {
      "cell_type": "code",
      "metadata": {
        "id": "sm0PDmEaAuLv"
      },
      "source": [
        "def Encode_TextWithAttention(sentence,tokenizer,maxlen,padding_type='max_length',attention_mask_flag=True):\n",
        "    encoded_dict = tokenizer.encode_plus(sentence, add_special_tokens=True, max_length=maxlen, truncation=True, padding=padding_type, return_attention_mask=attention_mask_flag)\n",
        "    return encoded_dict['input_ids'],encoded_dict['attention_mask']\n",
        "\n",
        "def Encode_TextWithoutAttention(sentence,tokenizer,maxlen,padding_type='max_length',attention_mask_flag=False):\n",
        "    encoded_dict = tokenizer.encode_plus(sentence, add_special_tokens=True, max_length=maxlen, truncation=True, padding=padding_type, return_attention_mask=attention_mask_flag)\n",
        "    return encoded_dict['input_ids']\n",
        "\n",
        "def get_TokenizedTextWithAttentionMask(sentenceList, tokenizer):\n",
        "    token_ids_list,attention_mask_list = [],[]\n",
        "    for sentence in sentenceList:\n",
        "        token_ids,attention_mask = Encode_TextWithAttention(sentence,tokenizer,MAX_LEN)\n",
        "        token_ids_list.append(token_ids)\n",
        "        attention_mask_list.append(attention_mask)\n",
        "    return token_ids_list,attention_mask_list\n",
        "\n",
        "def get_TokenizedText(sentenceList, tokenizer):\n",
        "    token_ids_list = []\n",
        "    for sentence in sentenceList:\n",
        "        token_ids = Encode_TextWithoutAttention(sentence,tokenizer,MAX_LEN)\n",
        "        token_ids_list.append(token_ids)\n",
        "    return token_ids_list"
      ],
      "execution_count": 30,
      "outputs": []
    },
    {
      "cell_type": "code",
      "metadata": {
        "id": "xduasmntAuLx"
      },
      "source": [
        "train_token_ids,train_attention_masks = torch.tensor(get_TokenizedTextWithAttentionMask(train_sentences,tokenizer))\n",
        "val_token_ids,val_attention_masks = torch.tensor(get_TokenizedTextWithAttentionMask(val_sentences,tokenizer))\n",
        "test_token_ids,test_attention_masks = torch.tensor(get_TokenizedTextWithAttentionMask(test_sentences,tokenizer))\n",
        "\n",
        "train_labels = torch.tensor(train_labels)\n",
        "val_labels = torch.tensor(val_labels)"
      ],
      "execution_count": 31,
      "outputs": []
    },
    {
      "cell_type": "code",
      "metadata": {
        "id": "XPlfoGroAuLy"
      },
      "source": [
        "batch_size = 32\n",
        "\n",
        "train_data = TensorDataset(train_token_ids, train_attention_masks, train_labels)\n",
        "train_sampler = RandomSampler(train_data)\n",
        "train_dataloader = DataLoader(train_data, sampler=train_sampler, batch_size=batch_size)\n",
        "\n",
        "validation_data = TensorDataset(val_token_ids, val_attention_masks, val_labels)\n",
        "validation_sampler = SequentialSampler(validation_data)\n",
        "validation_dataloader = DataLoader(validation_data, sampler=validation_sampler, batch_size=batch_size)\n",
        "\n",
        "test_data = TensorDataset(test_token_ids, test_attention_masks)\n",
        "test_sampler = SequentialSampler(test_data)\n",
        "test_dataloader = DataLoader(test_data, sampler=test_sampler, batch_size=batch_size)\n"
      ],
      "execution_count": 32,
      "outputs": []
    },
    {
      "cell_type": "code",
      "metadata": {
        "colab": {
          "base_uri": "https://localhost:8080/",
          "height": 215,
          "referenced_widgets": [
            "f70c6bb312794300abd8e3a1f3177e4c",
            "902ec052ae2443b6a1ededca7a16055c",
            "ae51dc8bf3ae4808b282783256ac72a2",
            "8f42ff5868ae494187b3f1d4a2394246",
            "3177bf2b0e8b428a95cbbbce03df35b5",
            "c6c4dd7269c2420b9e86e54026a7e3af",
            "39cea6a47f1e4868a9c65c0447bbbba5",
            "adaa9c63a7e74bdaa093dabf17a0765e",
            "f3628ee76626446fb027486f4e0148d8",
            "b9ff7cfb200b4be89d72091713e454d8",
            "4f86fc9a1a2e4f1388644cc17e784d2f",
            "d8a59f45cab04c779c482b5272662bb8",
            "ec1780d0ad5341aa91424ac1116cfba2",
            "190f0a1dcfc84bfa982852aa78b4881d",
            "57065cba953143ba945151f4611470d6",
            "37aaced74a74430b9eeb41170626f122"
          ]
        },
        "id": "7H0XxMRdAuLz",
        "outputId": "f0c18baa-a63d-42c0-a788-c60ec4737559"
      },
      "source": [
        "model = BertForSequenceClassification.from_pretrained('bert-base-uncased', num_labels=2).cuda()\n",
        "\n"
      ],
      "execution_count": 33,
      "outputs": [
        {
          "output_type": "display_data",
          "data": {
            "application/vnd.jupyter.widget-view+json": {
              "model_id": "f70c6bb312794300abd8e3a1f3177e4c",
              "version_minor": 0,
              "version_major": 2
            },
            "text/plain": [
              "HBox(children=(FloatProgress(value=0.0, description='Downloading', max=433.0, style=ProgressStyle(description_…"
            ]
          },
          "metadata": {
            "tags": []
          }
        },
        {
          "output_type": "stream",
          "text": [
            "\n"
          ],
          "name": "stdout"
        },
        {
          "output_type": "display_data",
          "data": {
            "application/vnd.jupyter.widget-view+json": {
              "model_id": "f3628ee76626446fb027486f4e0148d8",
              "version_minor": 0,
              "version_major": 2
            },
            "text/plain": [
              "HBox(children=(FloatProgress(value=0.0, description='Downloading', max=440473133.0, style=ProgressStyle(descri…"
            ]
          },
          "metadata": {
            "tags": []
          }
        },
        {
          "output_type": "stream",
          "text": [
            "\n"
          ],
          "name": "stdout"
        },
        {
          "output_type": "stream",
          "text": [
            "Some weights of the model checkpoint at bert-base-uncased were not used when initializing BertForSequenceClassification: ['cls.predictions.bias', 'cls.predictions.transform.dense.weight', 'cls.predictions.transform.dense.bias', 'cls.predictions.decoder.weight', 'cls.seq_relationship.weight', 'cls.seq_relationship.bias', 'cls.predictions.transform.LayerNorm.weight', 'cls.predictions.transform.LayerNorm.bias']\n",
            "- This IS expected if you are initializing BertForSequenceClassification from the checkpoint of a model trained on another task or with another architecture (e.g. initializing a BertForSequenceClassification model from a BertForPreTraining model).\n",
            "- This IS NOT expected if you are initializing BertForSequenceClassification from the checkpoint of a model that you expect to be exactly identical (initializing a BertForSequenceClassification model from a BertForSequenceClassification model).\n",
            "Some weights of BertForSequenceClassification were not initialized from the model checkpoint at bert-base-uncased and are newly initialized: ['classifier.weight', 'classifier.bias']\n",
            "You should probably TRAIN this model on a down-stream task to be able to use it for predictions and inference.\n"
          ],
          "name": "stderr"
        }
      ]
    },
    {
      "cell_type": "code",
      "metadata": {
        "id": "GEKuaqbuAuL1"
      },
      "source": [
        "param_optimizer = list(model.named_parameters())\n",
        "no_decay = ['bias', 'gamma', 'beta']\n",
        "optimizer_grouped_parameters = [\n",
        "    {'params': [p for n, p in param_optimizer if not any(nd in n for nd in no_decay)],\n",
        "     'weight_decay_rate': 0.01},\n",
        "    {'params': [p for n, p in param_optimizer if any(nd in n for nd in no_decay)],\n",
        "     'weight_decay_rate': 0.0}\n",
        "]\n"
      ],
      "execution_count": 34,
      "outputs": []
    },
    {
      "cell_type": "code",
      "metadata": {
        "id": "zfGCHYibAuL2"
      },
      "source": [
        "optimizer = AdamW(optimizer_grouped_parameters, lr=2e-5)"
      ],
      "execution_count": 35,
      "outputs": []
    },
    {
      "cell_type": "code",
      "metadata": {
        "id": "43bJXu0qAuL3"
      },
      "source": [
        "def flat_accuracy(preds, labels):\n",
        "    pred_flat = np.argmax(preds, axis=1).flatten()\n",
        "    labels_flat = labels.flatten()\n",
        "    return np.sum(pred_flat == labels_flat) / len(labels_flat)"
      ],
      "execution_count": 36,
      "outputs": []
    },
    {
      "cell_type": "code",
      "metadata": {
        "colab": {
          "base_uri": "https://localhost:8080/"
        },
        "id": "_Fo5dIo0AuL5",
        "outputId": "2508d8b2-247d-472d-c0d9-160c9a69010a"
      },
      "source": [
        "train_loss_set = []\n",
        "best_val_accuracy = 0.50\n",
        "directory_path = '/content/gdrive/MyDrive/4th_sem/dataset/FakeNewsNet'\n",
        "epochs = 10\n",
        "\n",
        "for _ in trange(epochs, desc=\"Epoch\"):\n",
        "    model.train()\n",
        "    tr_loss = 0\n",
        "    nb_tr_examples, nb_tr_steps = 0, 0\n",
        "  \n",
        "    for step, batch in enumerate(train_dataloader):\n",
        "        batch = tuple(t.to(device) for t in batch)\n",
        "        b_input_ids, b_input_mask, b_labels = batch\n",
        "        optimizer.zero_grad()\n",
        "        outputs = model(b_input_ids, token_type_ids=None, attention_mask=b_input_mask, labels=b_labels)\n",
        "        loss = outputs[0]\n",
        "        logits = outputs[1]\n",
        "        train_loss_set.append(loss.item())    \n",
        "        loss.backward()\n",
        "        optimizer.step()\n",
        "\n",
        "        tr_loss += loss.item()\n",
        "        nb_tr_examples += b_input_ids.size(0)\n",
        "        nb_tr_steps += 1\n",
        "\n",
        "    print(\"Train loss: {}\".format(tr_loss/nb_tr_steps))\n",
        "\n",
        "    model.eval()\n",
        "\n",
        "    eval_loss, eval_accuracy = 0, 0\n",
        "    nb_eval_steps, nb_eval_examples = 0, 0\n",
        "\n",
        "    for batch in validation_dataloader:\n",
        "        batch = tuple(t.to(device) for t in batch)\n",
        "        b_input_ids, b_input_mask, b_labels = batch\n",
        "        with torch.no_grad():\n",
        "          output = model(b_input_ids, token_type_ids=None, attention_mask=b_input_mask)\n",
        "          logits = output[0]\n",
        "\n",
        "        logits = logits.detach().cpu().numpy()\n",
        "        label_ids = b_labels.to('cpu').numpy()\n",
        "\n",
        "        tmp_eval_accuracy = flat_accuracy(logits, label_ids)\n",
        "\n",
        "        eval_accuracy += tmp_eval_accuracy\n",
        "        nb_eval_steps += 1\n",
        "\n",
        "    print(\"Validation Accuracy: {}\".format(eval_accuracy/nb_eval_steps))\n",
        "    Validation_Accuracy = (eval_accuracy/nb_eval_steps)\n",
        "    #if(Validation_Accuracy >= best_val_accuracy):\n",
        "    torch.save(model.state_dict(), directory_path+'/models/BERT_base_uncased_best_model.ckpt')\n",
        "    best_val_accuracy = Validation_Accuracy\n",
        "    print('Model Saved')\n",
        "\n",
        "\n"
      ],
      "execution_count": 37,
      "outputs": [
        {
          "output_type": "stream",
          "text": [
            "\rEpoch:   0%|          | 0/10 [00:00<?, ?it/s]"
          ],
          "name": "stderr"
        },
        {
          "output_type": "stream",
          "text": [
            "Train loss: 0.6593225002288818\n",
            "Validation Accuracy: 0.6240234375\n"
          ],
          "name": "stdout"
        },
        {
          "output_type": "stream",
          "text": [
            "\rEpoch:  10%|█         | 1/10 [07:18<1:05:43, 438.18s/it]"
          ],
          "name": "stderr"
        },
        {
          "output_type": "stream",
          "text": [
            "Model Saved\n",
            "Train loss: 0.6084751624327439\n",
            "Validation Accuracy: 0.6253255208333334\n"
          ],
          "name": "stdout"
        },
        {
          "output_type": "stream",
          "text": [
            "\rEpoch:  20%|██        | 2/10 [14:32<58:15, 436.94s/it]  "
          ],
          "name": "stderr"
        },
        {
          "output_type": "stream",
          "text": [
            "Model Saved\n",
            "Train loss: 0.5388538675916779\n",
            "Validation Accuracy: 0.6243489583333334\n"
          ],
          "name": "stdout"
        },
        {
          "output_type": "stream",
          "text": [
            "\rEpoch:  30%|███       | 3/10 [21:48<50:57, 436.74s/it]"
          ],
          "name": "stderr"
        },
        {
          "output_type": "stream",
          "text": [
            "Model Saved\n",
            "Train loss: 0.381282522805504\n",
            "Validation Accuracy: 0.6223958333333334\n"
          ],
          "name": "stdout"
        },
        {
          "output_type": "stream",
          "text": [
            "\rEpoch:  40%|████      | 4/10 [29:06<43:42, 437.01s/it]"
          ],
          "name": "stderr"
        },
        {
          "output_type": "stream",
          "text": [
            "Model Saved\n",
            "Train loss: 0.19002311857794965\n",
            "Validation Accuracy: 0.6145833333333334\n"
          ],
          "name": "stdout"
        },
        {
          "output_type": "stream",
          "text": [
            "\rEpoch:  50%|█████     | 5/10 [36:23<36:25, 437.13s/it]"
          ],
          "name": "stderr"
        },
        {
          "output_type": "stream",
          "text": [
            "Model Saved\n",
            "Train loss: 0.11764908370633538\n",
            "Validation Accuracy: 0.6041666666666666\n"
          ],
          "name": "stdout"
        },
        {
          "output_type": "stream",
          "text": [
            "\rEpoch:  60%|██████    | 6/10 [43:40<29:08, 437.18s/it]"
          ],
          "name": "stderr"
        },
        {
          "output_type": "stream",
          "text": [
            "Model Saved\n",
            "Train loss: 0.06486915520203489\n",
            "Validation Accuracy: 0.6136067708333334\n"
          ],
          "name": "stdout"
        },
        {
          "output_type": "stream",
          "text": [
            "\rEpoch:  70%|███████   | 7/10 [50:58<21:51, 437.25s/it]"
          ],
          "name": "stderr"
        },
        {
          "output_type": "stream",
          "text": [
            "Model Saved\n",
            "Train loss: 0.05037977049123965\n",
            "Validation Accuracy: 0.6165364583333334\n"
          ],
          "name": "stdout"
        },
        {
          "output_type": "stream",
          "text": [
            "\rEpoch:  80%|████████  | 8/10 [58:15<14:34, 437.11s/it]"
          ],
          "name": "stderr"
        },
        {
          "output_type": "stream",
          "text": [
            "Model Saved\n",
            "Train loss: 0.03886405278039588\n",
            "Validation Accuracy: 0.6165364583333334\n"
          ],
          "name": "stdout"
        },
        {
          "output_type": "stream",
          "text": [
            "\rEpoch:  90%|█████████ | 9/10 [1:05:31<07:16, 437.00s/it]"
          ],
          "name": "stderr"
        },
        {
          "output_type": "stream",
          "text": [
            "Model Saved\n",
            "Train loss: 0.0384958028208002\n",
            "Validation Accuracy: 0.625\n"
          ],
          "name": "stdout"
        },
        {
          "output_type": "stream",
          "text": [
            "Epoch: 100%|██████████| 10/10 [1:12:48<00:00, 436.84s/it]"
          ],
          "name": "stderr"
        },
        {
          "output_type": "stream",
          "text": [
            "Model Saved\n"
          ],
          "name": "stdout"
        },
        {
          "output_type": "stream",
          "text": [
            "\n"
          ],
          "name": "stderr"
        }
      ]
    },
    {
      "cell_type": "code",
      "metadata": {
        "id": "yys3twKwEM9o"
      },
      "source": [
        "import torch\n",
        "import torch.nn.functional as F\n",
        "from torch.utils.data import TensorDataset, DataLoader, RandomSampler, SequentialSampler\n",
        "from keras.preprocessing.sequence import pad_sequences\n",
        "from sklearn.model_selection import train_test_split\n",
        "import preprocessor as p\n",
        "\n",
        "from transformers import XLNetTokenizer, XLNetForSequenceClassification,BertTokenizer, BertForSequenceClassification, DebertaTokenizer, DebertaForSequenceClassification, RobertaTokenizerFast, RobertaForSequenceClassification, ElectraTokenizer, ElectraForSequenceClassification\n",
        "from transformers import AdamW\n",
        "\n",
        "from tqdm import tqdm, trange\n",
        "import pandas as pd\n",
        "import io\n",
        "import numpy as np\n",
        "import matplotlib.pyplot as plt\n",
        "% matplotlib inline\n"
      ],
      "execution_count": 38,
      "outputs": []
    },
    {
      "cell_type": "code",
      "metadata": {
        "colab": {
          "base_uri": "https://localhost:8080/",
          "height": 35
        },
        "id": "bmf7OlaVENDs",
        "outputId": "1727e8ef-df72-4096-8928-626bb1850c1d"
      },
      "source": [
        "device = torch.device(\"cuda\" if torch.cuda.is_available() else \"cpu\")\n",
        "n_gpu = torch.cuda.device_count()\n",
        "torch.cuda.get_device_name(0)\n"
      ],
      "execution_count": 39,
      "outputs": [
        {
          "output_type": "execute_result",
          "data": {
            "application/vnd.google.colaboratory.intrinsic+json": {
              "type": "string"
            },
            "text/plain": [
              "'Tesla K80'"
            ]
          },
          "metadata": {
            "tags": []
          },
          "execution_count": 39
        }
      ]
    },
    {
      "cell_type": "code",
      "metadata": {
        "id": "kgQkvBweENJl"
      },
      "source": [
        "train=pd.read_csv('/content/gdrive/MyDrive/4th_sem/dataset/FakeNewsNet/fnn_train.csv')"
      ],
      "execution_count": 40,
      "outputs": []
    },
    {
      "cell_type": "code",
      "metadata": {
        "id": "sJFW6IvjENO_"
      },
      "source": [
        "train = train.rename(columns={ 'fullText_based_content' : 'text'})\n",
        "train = train.rename(columns={ 'label_fnn' : 'label'})\n",
        "train.loc[train['label'] == 'fake', 'label'] = '0'\n",
        "train.loc[train['label'] == 'real', 'label'] = '1'"
      ],
      "execution_count": 41,
      "outputs": []
    },
    {
      "cell_type": "code",
      "metadata": {
        "colab": {
          "base_uri": "https://localhost:8080/",
          "height": 418
        },
        "id": "r9cclxZAENU0",
        "outputId": "041418d4-8f62-4a4f-ef08-b2b10f7c0b73"
      },
      "source": [
        "train.head()"
      ],
      "execution_count": 42,
      "outputs": [
        {
          "output_type": "execute_result",
          "data": {
            "text/html": [
              "<div>\n",
              "<style scoped>\n",
              "    .dataframe tbody tr th:only-of-type {\n",
              "        vertical-align: middle;\n",
              "    }\n",
              "\n",
              "    .dataframe tbody tr th {\n",
              "        vertical-align: top;\n",
              "    }\n",
              "\n",
              "    .dataframe thead th {\n",
              "        text-align: right;\n",
              "    }\n",
              "</style>\n",
              "<table border=\"1\" class=\"dataframe\">\n",
              "  <thead>\n",
              "    <tr style=\"text-align: right;\">\n",
              "      <th></th>\n",
              "      <th>id</th>\n",
              "      <th>date</th>\n",
              "      <th>speaker</th>\n",
              "      <th>statement</th>\n",
              "      <th>sources</th>\n",
              "      <th>paragraph_based_content</th>\n",
              "      <th>text</th>\n",
              "      <th>label</th>\n",
              "    </tr>\n",
              "  </thead>\n",
              "  <tbody>\n",
              "    <tr>\n",
              "      <th>0</th>\n",
              "      <td>3106</td>\n",
              "      <td>2011-01-25T06:00:00-05:00</td>\n",
              "      <td>Joe Wilkinson</td>\n",
              "      <td>A national organization says Georgia has one o...</td>\n",
              "      <td>['http://www.ajc.com/news/georgia-politics-ele...</td>\n",
              "      <td>['A coalition of government watchdog groups la...</td>\n",
              "      <td>A coalition of government watchdog groups last...</td>\n",
              "      <td>0</td>\n",
              "    </tr>\n",
              "    <tr>\n",
              "      <th>1</th>\n",
              "      <td>5655</td>\n",
              "      <td>2012-04-02T11:42:20-04:00</td>\n",
              "      <td>Rick Scott</td>\n",
              "      <td>Says Barack Obama's health care law \"will be t...</td>\n",
              "      <td>['http://www.youtube.com/watch?v=TaC0mKApf9Q&amp;f...</td>\n",
              "      <td>['As Supreme Court justices embarked on three ...</td>\n",
              "      <td>As Supreme Court justices embarked on three da...</td>\n",
              "      <td>0</td>\n",
              "    </tr>\n",
              "    <tr>\n",
              "      <th>2</th>\n",
              "      <td>3506</td>\n",
              "      <td>2011-04-01T09:49:05-04:00</td>\n",
              "      <td>J.D. Alexander</td>\n",
              "      <td>Says the Southwest Florida Water Management Di...</td>\n",
              "      <td>['http://www.tampabay.com/news/politics/gubern...</td>\n",
              "      <td>[\"Here's a new one: The Senate budget committe...</td>\n",
              "      <td>Here's a new one: The Senate budget committee ...</td>\n",
              "      <td>0</td>\n",
              "    </tr>\n",
              "    <tr>\n",
              "      <th>3</th>\n",
              "      <td>3450</td>\n",
              "      <td>2011-03-21T12:20:02-04:00</td>\n",
              "      <td>Paul Ryan</td>\n",
              "      <td>\"The Congressional Budget Office has this econ...</td>\n",
              "      <td>['http://www.cnn.com/2011/POLITICS/03/17/gop.b...</td>\n",
              "      <td>['Recently, House Budget chairman Paul Ryan, R...</td>\n",
              "      <td>Recently, House Budget chairman Paul Ryan, R-W...</td>\n",
              "      <td>1</td>\n",
              "    </tr>\n",
              "    <tr>\n",
              "      <th>4</th>\n",
              "      <td>4776</td>\n",
              "      <td>2011-11-13T07:30:00-05:00</td>\n",
              "      <td>Rodney Frelinghuysen</td>\n",
              "      <td>Says the Treasury Department \"says 41 percent ...</td>\n",
              "      <td>['http://frelinghuysen.house.gov/index.cfm?sec...</td>\n",
              "      <td>['The millionaires’ tax proposal made its late...</td>\n",
              "      <td>The millionaires’ tax proposal made its latest...</td>\n",
              "      <td>0</td>\n",
              "    </tr>\n",
              "  </tbody>\n",
              "</table>\n",
              "</div>"
            ],
            "text/plain": [
              "     id  ... label\n",
              "0  3106  ...     0\n",
              "1  5655  ...     0\n",
              "2  3506  ...     0\n",
              "3  3450  ...     1\n",
              "4  4776  ...     0\n",
              "\n",
              "[5 rows x 8 columns]"
            ]
          },
          "metadata": {
            "tags": []
          },
          "execution_count": 42
        }
      ]
    },
    {
      "cell_type": "code",
      "metadata": {
        "colab": {
          "base_uri": "https://localhost:8080/"
        },
        "id": "78YWgEE4ENZi",
        "outputId": "ad4b40b6-5528-466d-a88c-dfb610cced08"
      },
      "source": [
        "df, val_df, test_df = np.split(train.sample(frac=1), [int(.6*len(train)), int(.8*len(train))])\n",
        "\n",
        "df = df.reset_index(drop=True)\n",
        "val_df = val_df.reset_index(drop=True)\n",
        "test_df = test_df.reset_index(drop=True)\n",
        "test_label_df = test_df\n",
        "\n",
        "print(\"Size of training set: {}\".format(len(df)))\n",
        "print(\"Size of validation set: {}\".format(len(val_df)))\n",
        "print(\"Size of testing set: {}\".format(len(test_df)))"
      ],
      "execution_count": 43,
      "outputs": [
        {
          "output_type": "stream",
          "text": [
            "Size of training set: 9127\n",
            "Size of validation set: 3042\n",
            "Size of testing set: 3043\n"
          ],
          "name": "stdout"
        }
      ]
    },
    {
      "cell_type": "code",
      "metadata": {
        "id": "MWNbOgI4ENey"
      },
      "source": [
        "def preprocess(row):\n",
        "  text = row['text']\n",
        "  # text = text.strip('\\xa0')\n",
        "  text = p.clean(text)\n",
        "  # text = re.sub(r'\\([0-9]+\\)', '', text).strip()    \n",
        "  return text\n"
      ],
      "execution_count": 44,
      "outputs": []
    },
    {
      "cell_type": "code",
      "metadata": {
        "id": "HBYAm-PnENjp"
      },
      "source": [
        "def map_label(row):\n",
        "  return 0 if row['label']=='1' else 1\n",
        "\n",
        "df['label_encoded'] = df.apply(lambda x: map_label(x), 1)\n",
        "val_df['label_encoded'] = val_df.apply(lambda x: map_label(x), 1)\n",
        "# test_df['label_encoded'] = test_df.apply(lambda x: map_label(x), 1)\n"
      ],
      "execution_count": 45,
      "outputs": []
    },
    {
      "cell_type": "code",
      "metadata": {
        "id": "pd5HTg_PAuL8"
      },
      "source": [
        "train_sentences = df.text.values\n",
        "train_token_ids = df.id.values\n",
        "val_sentences = val_df.text.values\n",
        "val_token_ids = val_df.id.values\n",
        "test_sentences = test_df.text.values\n",
        "test_token_ids = test_df.id.values\n"
      ],
      "execution_count": 46,
      "outputs": []
    },
    {
      "cell_type": "code",
      "metadata": {
        "id": "2mD0KlAdAuL8"
      },
      "source": [
        "train_sentences = [sentence + \" [SEP] [CLS]\" for sentence in train_sentences]\n",
        "train_labels = df.label_encoded.values\n",
        "val_sentences = [sentence + \" [SEP] [CLS]\" for sentence in val_sentences]\n",
        "val_labels = val_df.label_encoded.values\n",
        "test_sentences = [sentence + \" [SEP] [CLS]\" for sentence in test_sentences]\n"
      ],
      "execution_count": 47,
      "outputs": []
    },
    {
      "cell_type": "code",
      "metadata": {
        "id": "lNWvsmqGE2Q0"
      },
      "source": [
        "MAX_LEN = 128\n",
        "batch_size = 64\n"
      ],
      "execution_count": 48,
      "outputs": []
    },
    {
      "cell_type": "code",
      "metadata": {
        "id": "0SqRju3yE2U-"
      },
      "source": [
        "def get_dataloader(network, train_sentences, val_sentences, train_labels, val_labels, test_sentences, train_token_ids, val_token_ids, test_token_ids):\n",
        "  dic = {\"XLNET\": \"xlnet-base-cased\", \"BERT\": \"bert-base-uncased\", \"ROBERT\": \"roberta-base\", \"XLM-ROBERT\": \"xlm-roberta-base\", \"DeBERTa\": \"microsoft/deberta-base\", \"Electra\": \"google/electra-base-discriminator\"}\n",
        "  if network=='XLNET':\n",
        "    tokenizer = XLNetTokenizer.from_pretrained(dic[network], do_lower_case=True)\n",
        "  elif network=='DeBERTa':\n",
        "    tokenizer = DebertaTokenizer.from_pretrained(dic[network], do_lower_case=True)\n",
        "  elif network=='BERT':\n",
        "    tokenizer = BertTokenizer.from_pretrained(dic[network], do_lower_case=True)\n",
        "  elif network=='Electra':\n",
        "    tokenizer = ElectraTokenizer.from_pretrained(dic[network], do_lower_case=True)\n",
        "  else:\n",
        "    tokenizer = RobertaTokenizerFast.from_pretrained(dic[network], do_lower_case=True)\n",
        "\n",
        "  tokenized_train_texts = [tokenizer.tokenize(sent) for sent in train_sentences]\n",
        "  print (\"Tokenize the first sentence:\")\n",
        "  print (tokenized_train_texts[0])\n",
        "\n",
        "  tokenized_val_texts = [tokenizer.tokenize(sent) for sent in val_sentences]\n",
        "  tokenized_test_texts = [tokenizer.tokenize(sent) for sent in test_sentences]\n",
        "  input_train_ids = [tokenizer.convert_tokens_to_ids(x) for x in tokenized_train_texts]\n",
        "  input_val_ids = [tokenizer.convert_tokens_to_ids(x) for x in tokenized_val_texts]\n",
        "  input_test_ids = [tokenizer.convert_tokens_to_ids(x) for x in tokenized_test_texts]\n",
        "\n",
        "  input_train_ids = pad_sequences(input_train_ids, maxlen=MAX_LEN, dtype=\"long\", truncating=\"post\", padding=\"post\")\n",
        "  input_val_ids = pad_sequences(input_val_ids, maxlen=MAX_LEN, dtype=\"long\", truncating=\"post\", padding=\"post\")\n",
        "  input_test_ids = pad_sequences(input_test_ids, maxlen=MAX_LEN, dtype=\"long\", truncating=\"post\", padding=\"post\")\n",
        "\n",
        "  # Create attention masks\n",
        "  train_attention_masks = []\n",
        "\n",
        "  # Create a mask of 1s for each token followed by 0s for padding\n",
        "  for seq in input_train_ids:\n",
        "    seq_mask = [float(i>0) for i in seq]\n",
        "    train_attention_masks.append(seq_mask)\n",
        "  train_masks = np.array(train_attention_masks)\n",
        "\n",
        "  # Create attention masks\n",
        "  val_attention_masks = []\n",
        "\n",
        "  # Create a mask of 1s for each token followed by 0s for padding\n",
        "  for seq in input_val_ids:\n",
        "    seq_mask = [float(i>0) for i in seq]\n",
        "    val_attention_masks.append(seq_mask)\n",
        "  validation_masks = np.array(val_attention_masks)\n",
        "\n",
        "  # Create attention masks\n",
        "  test_attention_masks = []\n",
        "\n",
        "  # Create a mask of 1s for each token followed by 0s for padding\n",
        "  for seq in input_test_ids:\n",
        "    seq_mask = [float(i>0) for i in seq]\n",
        "    test_attention_masks.append(seq_mask)\n",
        "  test_masks = np.array(test_attention_masks)\n",
        "\n",
        "  train_inputs = torch.tensor(input_train_ids)\n",
        "  validation_inputs = torch.tensor(input_val_ids)\n",
        "  test_inputs = torch.tensor(input_test_ids)\n",
        "  train_labels = torch.tensor(train_labels)\n",
        "  validation_labels = torch.tensor(val_labels)\n",
        "  train_masks = torch.tensor(train_masks)\n",
        "  validation_masks = torch.tensor(validation_masks)\n",
        "  test_masks = torch.tensor(test_masks)\n",
        "\n",
        "  train_data = TensorDataset(torch.tensor(train_token_ids), train_inputs, train_masks, train_labels)\n",
        "  train_sampler = RandomSampler(train_data)\n",
        "  train_dataloader = DataLoader(train_data, sampler=train_sampler, batch_size=batch_size)\n",
        "\n",
        "  validation_data = TensorDataset(torch.tensor(val_token_ids), validation_inputs, validation_masks, validation_labels)\n",
        "  validation_sampler = SequentialSampler(validation_data)\n",
        "  validation_dataloader = DataLoader(validation_data, sampler=validation_sampler, batch_size=batch_size)\n",
        "\n",
        "  test_data = TensorDataset(torch.tensor(test_token_ids), test_inputs, test_masks)\n",
        "  test_sampler = SequentialSampler(test_data)\n",
        "  test_dataloader = DataLoader(test_data, sampler=test_sampler, batch_size=batch_size)\n",
        "\n",
        "  return train_dataloader, validation_dataloader, test_dataloader\n"
      ],
      "execution_count": 49,
      "outputs": []
    },
    {
      "cell_type": "code",
      "metadata": {
        "colab": {
          "base_uri": "https://localhost:8080/"
        },
        "id": "MaAIa6F7E2cW",
        "outputId": "b83d3283-5a03-4129-eff8-6194b0c23583"
      },
      "source": [
        "train_dataloader_BERT, val_dataloader_BERT, test_dataloader_BERT = get_dataloader(\"BERT\", train_sentences, val_sentences, train_labels, val_labels, test_sentences, train_token_ids, val_token_ids, test_token_ids)\n"
      ],
      "execution_count": 50,
      "outputs": [
        {
          "output_type": "stream",
          "text": [
            "Tokenize the first sentence:\n",
            "['the', 'confederate', 'flag', 'flying', 'outside', 'of', 'south', 'carolina', '’', 's', 'state', '##house', 'has', 'sparked', 'debate', 'across', 'the', 'nation', 'following', 'the', 'brutal', 'shooting', 'at', 'emanuel', 'african', 'methodist', 'episcopal', 'church', 'in', 'charleston', '.', 'at', 'the', 'center', 'of', 'much', 'of', 'the', 'fe', '##r', '##vor', 'is', 'what', 'the', 'flag', 'stands', 'for', '.', 'for', 'some', ',', 'the', 'flag', 'is', 'a', 'symbol', 'for', 'a', 'shared', 'southern', 'heritage', '.', 'for', 'others', ',', 'the', 'flag', 'is', 'linked', 'to', 'the', 'confederate', 'war', 'memorial', ',', 'which', 'sits', 'next', 'to', 'it', 'and', 'honors', 'fallen', 'confederate', 'soldiers', '.', 'and', 'yet', 'others', ',', 'such', 'as', 'washington', 'post', 'columnist', 'eugene', 'robinson', ',', 'see', 'the', 'flag', 'as', 'a', 'symbol', 'for', 'racial', 'oppression', 'and', 'prejudice', '.', '\"', 'do', 'you', 'know', 'when', 'that', 'flag', 'was', 'first', 'flown', 'at', 'the', 'columbia', 'state', '##house', 'in', 'columbia', '?', '\"', 'he', 'asked', 'during', 'an', 'interview', 'on', 'meet', 'the', 'press', 'june', '21', '.', '\"', '1961', '…', 'it', 'was', 'a', 'middle', 'finger', 'directed', 'at', 'the', 'federal', 'government', '.', 'it', 'was', 'flown', 'there', 'as', 'a', 'symbol', 'of', 'massive', 'resistance', 'to', 'racial', 'des', '##eg', '##re', '##gation', '.', 'period', '.', '\"', '\"', 'it', 'was', 'only', 'after', 'brown', 'vs', '.', 'board', ',', 'after', 'little', 'rock', ',', 'after', 'des', '##eg', '##re', '##gation', 'began', ',', 'that', 'south', 'carol', '##inian', '##s', 'put', 'up', 'the', 'flag', 'on', 'the', 'state', '##house', ',', 'that', 'other', 'states', 'in', 'the', 'south', 'adopted', 'the', 'battle', 'flag', 'as', 'part', 'of', 'their', 'state', 'flags', ',', '\"', 'robinson', 'said', '.', '\"', 'so', 'it', 'was', 'massive', 'resistance', '.', '\"', 'here', 'we', 'wanted', 'to', 'to', 'answer', 'two', 'questions', '.', 'one', 'is', 'simple', ',', 'when', 'did', 'the', 'confederate', 'battle', 'flag', 'first', 'fly', 'above', 'the', 'south', 'carolina', 'state', '##house', '?', 'and', 'second', ',', 'why', '?', 'the', 'first', 'time', 'it', 'flew', 'daniel', 'hollis', ',', 'a', 'member', 'of', 'the', 'commission', 'responsible', 'for', 'planning', 'south', 'carolina', '’', 's', 'confederate', 'war', 'centennial', ',', 'recalled', 'the', 'exact', 'day', 'the', 'flag', 'was', 'first', 'hoisted', 'during', 'an', 'interview', 'published', 'in', '1999', '.', 'hollis', 'said', 'the', 'flag', 'itself', 'went', 'up', 'on', 'april', '11', ',', '1961', ',', 'for', 'the', 'opening', 'of', 'the', 'civil', 'war', 'centennial', '\"', 'at', 'the', 'request', 'of', 'ai', '##ken', 'rep', '.', 'john', 'a', '.', 'may', '.', '\"', '\"', 'may', 'told', 'us', 'he', 'was', 'going', 'to', 'introduce', 'a', 'resolution', 'to', 'fly', 'the', 'flag', 'for', 'a', 'year', 'from', 'the', 'capitol', '.', 'i', 'was', 'against', 'the', 'flag', 'going', 'up', ',', '\"', 'hollis', 'said', ',', '\"', 'but', 'i', 'kept', 'quiet', 'and', 'went', 'along', '.', '\"', 'the', 'resolution', 'was', 'approved', 'in', '1962', ',', 'but', 'never', 'included', 'a', 'date', 'for', 'the', 'flag', '’', 's', 'removal', '.', '\"', 'it', 'just', 'stayed', 'up', ',', '\"', 'hollis', 'said', '.', '\"', 'nobody', 'raised', 'a', 'question', '.', '\"', 'hollis', 'died', 'in', '2008', '.', 'the', 'flag', '’', 's', 'changing', 'meaning', 'so', ',', 'yes', ',', 'the', 'flag', 'didn', '’', 't', 'start', 'flying', 'until', '100', 'years', 'after', 'the', 'start', 'of', 'the', 'civil', 'war', '.', 'but', 'why', 'the', 'flag', 'was', 'flown', 'is', '-', '-', 'like', 'the', 'flag', 'itself', '-', '-', 'subject', 'to', 'some', 'debate', '.', 'robinson', 'cited', 'a', 'study', 'conducted', 'by', 'the', 'state', 'senate', 'of', 'georgia', 'to', 'help', 'make', 'his', 'case', '.', 'although', 'the', 'study', 'focuses', 'on', 'the', 'history', 'and', 'evolution', 'of', 'georgia', '’', 's', 'state', 'flag', ',', 'it', 'also', 'explores', 'the', 'different', 'confederate', 'flags', 'that', 'have', 'existed', 'and', 'how', 'those', 'flags', 'have', 'been', 'used', 'by', 'states', '.', 'the', 'study', 'pays', 'special', 'attention', 'to', 'what', 'the', 'different', 'flags', 'mean', '.', '\"', 'it', 'must', 'be', 'understood', 'how', 'the', 'meaning', 'of', 'the', 'battle', 'flag', 'has', 'changed', 'since', 'the', 'civil', 'war', 'and', 'explore', 'what', 'it', 'meant', 'at', 'the', 'time', 'georgia', 'and', 'other', 'states', 'adopted', 'it', 'or', 'paid', 'homage', 'to', 'it', ',', '\"', 'the', 'report', 'reads', '.', 'the', 'study', 'says', 'that', '\"', 'from', 'the', 'end', 'of', 'the', 'civil', 'war', 'until', 'the', 'late', '1940s', ',', 'display', 'of', 'the', 'battle', 'flag', 'was', 'mostly', 'limited', 'to', 'confederate', 'commemoration', '##s', ',', 'civil', 'war', 're', '-', 'enactment', '##s', ',', 'and', 'veterans', '’', 'parades', '.', 'the', 'flag', 'had', 'simply', 'become', 'a', 'tribute', 'to', 'confederate', 'veterans', '.', '\"', 'however', ',', 'in', '1948', ',', 'the', 'meaning', 'of', 'the', 'flag', 'began', 'to', 'change', '.', 'that', 'year', ',', 'dixie', '##crats', 'flew', 'the', 'flag', 'at', 'their', 'convention', 'in', 'birmingham', ',', 'ala', '.', ',', 'as', '\"', 'a', 'symbol', 'of', 'southern', 'protest', 'and', 'resistance', 'to', 'the', 'federal', 'government', '.', '\"', 'in', '1954', ',', 'the', 'supreme', 'court', 'ruled', 'in', 'brown', 'vs', '.', 'board', 'that', 'segregation', 'in', 'education', 'was', 'unconstitutional', '.', 'georgia', 'changed', 'its', 'state', 'flag', 'to', 'em', '##body', 'the', 'confederate', 'battle', 'flag', 'two', 'years', 'later', '.', 'the', 'period', 'also', 'saw', 'rosa', 'parks', 'refuse', 'to', 'give', 'up', 'her', 'seat', 'on', 'the', 'bus', '(', '1955', ')', ',', 'the', 'forced', 'integration', 'at', 'little', 'rock', ',', 'ark', '.', '(', '1957', ')', ',', 'and', 'student', 'sit', '-', 'ins', 'across', 'the', 'south', '(', '1960', ')', '.', 'we', 'asked', 'k', '.', 'michael', 'prince', ',', 'author', 'of', 'rally', \"'\", 'round', 'the', 'flag', ',', 'boys', ':', 'south', 'carolina', 'and', 'the', 'confederate', 'flag', ',', 'if', 'he', 'could', 'pin', '##point', 'the', 'root', 'cause', 'behind', 'the', 'raising', 'of', 'the', 'confederate', 'battle', 'flag', 'in', 'south', 'carolina', '.', '\"', 'as', 'far', 'as', 'i', \"'\", 've', 'been', 'able', 'to', 'determine', ',', 'the', 'bare', 'facts', '…', 'provide', 'no', 'clear', 'evidence', 'either', 'way', ',', '\"', 'prince', 'said', '.', '\"', 'it', \"'\", 's', 'possible', 'that', 'nobody', 'had', 'anything', 'else', 'in', 'mind', 'other', 'than', 'commemorating', 'the', 'war', '.', 'but', 'we', 'would', 'be', 're', '##mis', '##s', 'not', 'to', 'take', 'the', 'larger', 'context', 'into', 'consideration', 'in', 'judging', 'the', 'meaning', 'of', 'the', 'display', ',', '\"', 'prince', 'said', '.', 'specifically', ',', 'prince', 'cites', 'arguments', 'that', 'broke', 'out', 'between', 'a', 'new', 'jersey', 'centennial', 'delegation', 'and', 'south', 'carolina', '.', 'the', 'national', 'civil', 'war', 'centennial', 'commission', 'meeting', 'was', 'to', 'be', 'held', 'at', 'a', 'segregated', 'hotel', 'in', 'charleston', ',', 'and', 'a', 'black', 'delegate', 'from', 'new', 'jersey', 'was', 'denied', 'admit', '##tance', '.', 'new', 'jersey', 'threatened', 'to', 'boycott', 'all', 'charleston', 'events', 'in', 'response', '.', 'eventually', ',', 'a', 'compromise', 'was', 'reached', 'through', 'the', 'efforts', 'of', 'president', 'john', 'f', '.', 'kennedy', '.', 'the', 'meeting', 'was', 'moved', 'to', 'charleston', 'naval', 'base', 'where', 'segregation', 'was', 'not', 'in', 'effect', '.', '\"', 'the', 'official', 'opening', 'of', 'the', 'civil', 'war', 'centennial', 'became', 'a', 'divided', 'event', ',', 'with', 'dual', 'headquarters', 'and', 'dual', 'programs', ',', '\"', 'prince', 'wrote', 'in', 'his', 'book', '.', '\"', 'except', 'for', 'a', 'few', 'lunch', '##eon', 'speeches', 'and', 'the', 'events', 'held', 'at', 'fort', 'sum', '##ter', ',', 'centennial', 'function', 'followed', 'separate', '(', 'but', 'equal', ')', 'tracks', '.', '\"', 'the', 'dispute', 'between', 'new', 'jersey', 'and', 'south', 'carolina', 'would', 'go', 'on', 'to', 'become', 'the', '\"', 'number', '1', 'story', 'of', 'the', 'year', '\"', 'in', 'south', 'carolina', '’', 's', 'sum', '##ter', 'daily', 'item', '.', '[SEP]', '[CLS]']\n"
          ],
          "name": "stdout"
        }
      ]
    },
    {
      "cell_type": "code",
      "metadata": {
        "colab": {
          "base_uri": "https://localhost:8080/"
        },
        "id": "pWAUvx4rE2gs",
        "outputId": "c863f441-bfea-4526-b8c8-3280964f2b02"
      },
      "source": [
        "model2 = BertForSequenceClassification.from_pretrained(\"bert-base-uncased\", num_labels=2)\n",
        "directory_path = '/content/gdrive/MyDrive/4th_sem/dataset/FakeNewsNet/models'\n",
        "model2.load_state_dict(torch.load(directory_path+'/BERT_base_uncased_best_model.ckpt'))\n",
        "model2.eval()\n",
        "model2.cuda()"
      ],
      "execution_count": 51,
      "outputs": [
        {
          "output_type": "stream",
          "text": [
            "Some weights of the model checkpoint at bert-base-uncased were not used when initializing BertForSequenceClassification: ['cls.predictions.bias', 'cls.predictions.transform.dense.weight', 'cls.predictions.transform.dense.bias', 'cls.predictions.decoder.weight', 'cls.seq_relationship.weight', 'cls.seq_relationship.bias', 'cls.predictions.transform.LayerNorm.weight', 'cls.predictions.transform.LayerNorm.bias']\n",
            "- This IS expected if you are initializing BertForSequenceClassification from the checkpoint of a model trained on another task or with another architecture (e.g. initializing a BertForSequenceClassification model from a BertForPreTraining model).\n",
            "- This IS NOT expected if you are initializing BertForSequenceClassification from the checkpoint of a model that you expect to be exactly identical (initializing a BertForSequenceClassification model from a BertForSequenceClassification model).\n",
            "Some weights of BertForSequenceClassification were not initialized from the model checkpoint at bert-base-uncased and are newly initialized: ['classifier.weight', 'classifier.bias']\n",
            "You should probably TRAIN this model on a down-stream task to be able to use it for predictions and inference.\n"
          ],
          "name": "stderr"
        },
        {
          "output_type": "execute_result",
          "data": {
            "text/plain": [
              "BertForSequenceClassification(\n",
              "  (bert): BertModel(\n",
              "    (embeddings): BertEmbeddings(\n",
              "      (word_embeddings): Embedding(30522, 768, padding_idx=0)\n",
              "      (position_embeddings): Embedding(512, 768)\n",
              "      (token_type_embeddings): Embedding(2, 768)\n",
              "      (LayerNorm): LayerNorm((768,), eps=1e-12, elementwise_affine=True)\n",
              "      (dropout): Dropout(p=0.1, inplace=False)\n",
              "    )\n",
              "    (encoder): BertEncoder(\n",
              "      (layer): ModuleList(\n",
              "        (0): BertLayer(\n",
              "          (attention): BertAttention(\n",
              "            (self): BertSelfAttention(\n",
              "              (query): Linear(in_features=768, out_features=768, bias=True)\n",
              "              (key): Linear(in_features=768, out_features=768, bias=True)\n",
              "              (value): Linear(in_features=768, out_features=768, bias=True)\n",
              "              (dropout): Dropout(p=0.1, inplace=False)\n",
              "            )\n",
              "            (output): BertSelfOutput(\n",
              "              (dense): Linear(in_features=768, out_features=768, bias=True)\n",
              "              (LayerNorm): LayerNorm((768,), eps=1e-12, elementwise_affine=True)\n",
              "              (dropout): Dropout(p=0.1, inplace=False)\n",
              "            )\n",
              "          )\n",
              "          (intermediate): BertIntermediate(\n",
              "            (dense): Linear(in_features=768, out_features=3072, bias=True)\n",
              "          )\n",
              "          (output): BertOutput(\n",
              "            (dense): Linear(in_features=3072, out_features=768, bias=True)\n",
              "            (LayerNorm): LayerNorm((768,), eps=1e-12, elementwise_affine=True)\n",
              "            (dropout): Dropout(p=0.1, inplace=False)\n",
              "          )\n",
              "        )\n",
              "        (1): BertLayer(\n",
              "          (attention): BertAttention(\n",
              "            (self): BertSelfAttention(\n",
              "              (query): Linear(in_features=768, out_features=768, bias=True)\n",
              "              (key): Linear(in_features=768, out_features=768, bias=True)\n",
              "              (value): Linear(in_features=768, out_features=768, bias=True)\n",
              "              (dropout): Dropout(p=0.1, inplace=False)\n",
              "            )\n",
              "            (output): BertSelfOutput(\n",
              "              (dense): Linear(in_features=768, out_features=768, bias=True)\n",
              "              (LayerNorm): LayerNorm((768,), eps=1e-12, elementwise_affine=True)\n",
              "              (dropout): Dropout(p=0.1, inplace=False)\n",
              "            )\n",
              "          )\n",
              "          (intermediate): BertIntermediate(\n",
              "            (dense): Linear(in_features=768, out_features=3072, bias=True)\n",
              "          )\n",
              "          (output): BertOutput(\n",
              "            (dense): Linear(in_features=3072, out_features=768, bias=True)\n",
              "            (LayerNorm): LayerNorm((768,), eps=1e-12, elementwise_affine=True)\n",
              "            (dropout): Dropout(p=0.1, inplace=False)\n",
              "          )\n",
              "        )\n",
              "        (2): BertLayer(\n",
              "          (attention): BertAttention(\n",
              "            (self): BertSelfAttention(\n",
              "              (query): Linear(in_features=768, out_features=768, bias=True)\n",
              "              (key): Linear(in_features=768, out_features=768, bias=True)\n",
              "              (value): Linear(in_features=768, out_features=768, bias=True)\n",
              "              (dropout): Dropout(p=0.1, inplace=False)\n",
              "            )\n",
              "            (output): BertSelfOutput(\n",
              "              (dense): Linear(in_features=768, out_features=768, bias=True)\n",
              "              (LayerNorm): LayerNorm((768,), eps=1e-12, elementwise_affine=True)\n",
              "              (dropout): Dropout(p=0.1, inplace=False)\n",
              "            )\n",
              "          )\n",
              "          (intermediate): BertIntermediate(\n",
              "            (dense): Linear(in_features=768, out_features=3072, bias=True)\n",
              "          )\n",
              "          (output): BertOutput(\n",
              "            (dense): Linear(in_features=3072, out_features=768, bias=True)\n",
              "            (LayerNorm): LayerNorm((768,), eps=1e-12, elementwise_affine=True)\n",
              "            (dropout): Dropout(p=0.1, inplace=False)\n",
              "          )\n",
              "        )\n",
              "        (3): BertLayer(\n",
              "          (attention): BertAttention(\n",
              "            (self): BertSelfAttention(\n",
              "              (query): Linear(in_features=768, out_features=768, bias=True)\n",
              "              (key): Linear(in_features=768, out_features=768, bias=True)\n",
              "              (value): Linear(in_features=768, out_features=768, bias=True)\n",
              "              (dropout): Dropout(p=0.1, inplace=False)\n",
              "            )\n",
              "            (output): BertSelfOutput(\n",
              "              (dense): Linear(in_features=768, out_features=768, bias=True)\n",
              "              (LayerNorm): LayerNorm((768,), eps=1e-12, elementwise_affine=True)\n",
              "              (dropout): Dropout(p=0.1, inplace=False)\n",
              "            )\n",
              "          )\n",
              "          (intermediate): BertIntermediate(\n",
              "            (dense): Linear(in_features=768, out_features=3072, bias=True)\n",
              "          )\n",
              "          (output): BertOutput(\n",
              "            (dense): Linear(in_features=3072, out_features=768, bias=True)\n",
              "            (LayerNorm): LayerNorm((768,), eps=1e-12, elementwise_affine=True)\n",
              "            (dropout): Dropout(p=0.1, inplace=False)\n",
              "          )\n",
              "        )\n",
              "        (4): BertLayer(\n",
              "          (attention): BertAttention(\n",
              "            (self): BertSelfAttention(\n",
              "              (query): Linear(in_features=768, out_features=768, bias=True)\n",
              "              (key): Linear(in_features=768, out_features=768, bias=True)\n",
              "              (value): Linear(in_features=768, out_features=768, bias=True)\n",
              "              (dropout): Dropout(p=0.1, inplace=False)\n",
              "            )\n",
              "            (output): BertSelfOutput(\n",
              "              (dense): Linear(in_features=768, out_features=768, bias=True)\n",
              "              (LayerNorm): LayerNorm((768,), eps=1e-12, elementwise_affine=True)\n",
              "              (dropout): Dropout(p=0.1, inplace=False)\n",
              "            )\n",
              "          )\n",
              "          (intermediate): BertIntermediate(\n",
              "            (dense): Linear(in_features=768, out_features=3072, bias=True)\n",
              "          )\n",
              "          (output): BertOutput(\n",
              "            (dense): Linear(in_features=3072, out_features=768, bias=True)\n",
              "            (LayerNorm): LayerNorm((768,), eps=1e-12, elementwise_affine=True)\n",
              "            (dropout): Dropout(p=0.1, inplace=False)\n",
              "          )\n",
              "        )\n",
              "        (5): BertLayer(\n",
              "          (attention): BertAttention(\n",
              "            (self): BertSelfAttention(\n",
              "              (query): Linear(in_features=768, out_features=768, bias=True)\n",
              "              (key): Linear(in_features=768, out_features=768, bias=True)\n",
              "              (value): Linear(in_features=768, out_features=768, bias=True)\n",
              "              (dropout): Dropout(p=0.1, inplace=False)\n",
              "            )\n",
              "            (output): BertSelfOutput(\n",
              "              (dense): Linear(in_features=768, out_features=768, bias=True)\n",
              "              (LayerNorm): LayerNorm((768,), eps=1e-12, elementwise_affine=True)\n",
              "              (dropout): Dropout(p=0.1, inplace=False)\n",
              "            )\n",
              "          )\n",
              "          (intermediate): BertIntermediate(\n",
              "            (dense): Linear(in_features=768, out_features=3072, bias=True)\n",
              "          )\n",
              "          (output): BertOutput(\n",
              "            (dense): Linear(in_features=3072, out_features=768, bias=True)\n",
              "            (LayerNorm): LayerNorm((768,), eps=1e-12, elementwise_affine=True)\n",
              "            (dropout): Dropout(p=0.1, inplace=False)\n",
              "          )\n",
              "        )\n",
              "        (6): BertLayer(\n",
              "          (attention): BertAttention(\n",
              "            (self): BertSelfAttention(\n",
              "              (query): Linear(in_features=768, out_features=768, bias=True)\n",
              "              (key): Linear(in_features=768, out_features=768, bias=True)\n",
              "              (value): Linear(in_features=768, out_features=768, bias=True)\n",
              "              (dropout): Dropout(p=0.1, inplace=False)\n",
              "            )\n",
              "            (output): BertSelfOutput(\n",
              "              (dense): Linear(in_features=768, out_features=768, bias=True)\n",
              "              (LayerNorm): LayerNorm((768,), eps=1e-12, elementwise_affine=True)\n",
              "              (dropout): Dropout(p=0.1, inplace=False)\n",
              "            )\n",
              "          )\n",
              "          (intermediate): BertIntermediate(\n",
              "            (dense): Linear(in_features=768, out_features=3072, bias=True)\n",
              "          )\n",
              "          (output): BertOutput(\n",
              "            (dense): Linear(in_features=3072, out_features=768, bias=True)\n",
              "            (LayerNorm): LayerNorm((768,), eps=1e-12, elementwise_affine=True)\n",
              "            (dropout): Dropout(p=0.1, inplace=False)\n",
              "          )\n",
              "        )\n",
              "        (7): BertLayer(\n",
              "          (attention): BertAttention(\n",
              "            (self): BertSelfAttention(\n",
              "              (query): Linear(in_features=768, out_features=768, bias=True)\n",
              "              (key): Linear(in_features=768, out_features=768, bias=True)\n",
              "              (value): Linear(in_features=768, out_features=768, bias=True)\n",
              "              (dropout): Dropout(p=0.1, inplace=False)\n",
              "            )\n",
              "            (output): BertSelfOutput(\n",
              "              (dense): Linear(in_features=768, out_features=768, bias=True)\n",
              "              (LayerNorm): LayerNorm((768,), eps=1e-12, elementwise_affine=True)\n",
              "              (dropout): Dropout(p=0.1, inplace=False)\n",
              "            )\n",
              "          )\n",
              "          (intermediate): BertIntermediate(\n",
              "            (dense): Linear(in_features=768, out_features=3072, bias=True)\n",
              "          )\n",
              "          (output): BertOutput(\n",
              "            (dense): Linear(in_features=3072, out_features=768, bias=True)\n",
              "            (LayerNorm): LayerNorm((768,), eps=1e-12, elementwise_affine=True)\n",
              "            (dropout): Dropout(p=0.1, inplace=False)\n",
              "          )\n",
              "        )\n",
              "        (8): BertLayer(\n",
              "          (attention): BertAttention(\n",
              "            (self): BertSelfAttention(\n",
              "              (query): Linear(in_features=768, out_features=768, bias=True)\n",
              "              (key): Linear(in_features=768, out_features=768, bias=True)\n",
              "              (value): Linear(in_features=768, out_features=768, bias=True)\n",
              "              (dropout): Dropout(p=0.1, inplace=False)\n",
              "            )\n",
              "            (output): BertSelfOutput(\n",
              "              (dense): Linear(in_features=768, out_features=768, bias=True)\n",
              "              (LayerNorm): LayerNorm((768,), eps=1e-12, elementwise_affine=True)\n",
              "              (dropout): Dropout(p=0.1, inplace=False)\n",
              "            )\n",
              "          )\n",
              "          (intermediate): BertIntermediate(\n",
              "            (dense): Linear(in_features=768, out_features=3072, bias=True)\n",
              "          )\n",
              "          (output): BertOutput(\n",
              "            (dense): Linear(in_features=3072, out_features=768, bias=True)\n",
              "            (LayerNorm): LayerNorm((768,), eps=1e-12, elementwise_affine=True)\n",
              "            (dropout): Dropout(p=0.1, inplace=False)\n",
              "          )\n",
              "        )\n",
              "        (9): BertLayer(\n",
              "          (attention): BertAttention(\n",
              "            (self): BertSelfAttention(\n",
              "              (query): Linear(in_features=768, out_features=768, bias=True)\n",
              "              (key): Linear(in_features=768, out_features=768, bias=True)\n",
              "              (value): Linear(in_features=768, out_features=768, bias=True)\n",
              "              (dropout): Dropout(p=0.1, inplace=False)\n",
              "            )\n",
              "            (output): BertSelfOutput(\n",
              "              (dense): Linear(in_features=768, out_features=768, bias=True)\n",
              "              (LayerNorm): LayerNorm((768,), eps=1e-12, elementwise_affine=True)\n",
              "              (dropout): Dropout(p=0.1, inplace=False)\n",
              "            )\n",
              "          )\n",
              "          (intermediate): BertIntermediate(\n",
              "            (dense): Linear(in_features=768, out_features=3072, bias=True)\n",
              "          )\n",
              "          (output): BertOutput(\n",
              "            (dense): Linear(in_features=3072, out_features=768, bias=True)\n",
              "            (LayerNorm): LayerNorm((768,), eps=1e-12, elementwise_affine=True)\n",
              "            (dropout): Dropout(p=0.1, inplace=False)\n",
              "          )\n",
              "        )\n",
              "        (10): BertLayer(\n",
              "          (attention): BertAttention(\n",
              "            (self): BertSelfAttention(\n",
              "              (query): Linear(in_features=768, out_features=768, bias=True)\n",
              "              (key): Linear(in_features=768, out_features=768, bias=True)\n",
              "              (value): Linear(in_features=768, out_features=768, bias=True)\n",
              "              (dropout): Dropout(p=0.1, inplace=False)\n",
              "            )\n",
              "            (output): BertSelfOutput(\n",
              "              (dense): Linear(in_features=768, out_features=768, bias=True)\n",
              "              (LayerNorm): LayerNorm((768,), eps=1e-12, elementwise_affine=True)\n",
              "              (dropout): Dropout(p=0.1, inplace=False)\n",
              "            )\n",
              "          )\n",
              "          (intermediate): BertIntermediate(\n",
              "            (dense): Linear(in_features=768, out_features=3072, bias=True)\n",
              "          )\n",
              "          (output): BertOutput(\n",
              "            (dense): Linear(in_features=3072, out_features=768, bias=True)\n",
              "            (LayerNorm): LayerNorm((768,), eps=1e-12, elementwise_affine=True)\n",
              "            (dropout): Dropout(p=0.1, inplace=False)\n",
              "          )\n",
              "        )\n",
              "        (11): BertLayer(\n",
              "          (attention): BertAttention(\n",
              "            (self): BertSelfAttention(\n",
              "              (query): Linear(in_features=768, out_features=768, bias=True)\n",
              "              (key): Linear(in_features=768, out_features=768, bias=True)\n",
              "              (value): Linear(in_features=768, out_features=768, bias=True)\n",
              "              (dropout): Dropout(p=0.1, inplace=False)\n",
              "            )\n",
              "            (output): BertSelfOutput(\n",
              "              (dense): Linear(in_features=768, out_features=768, bias=True)\n",
              "              (LayerNorm): LayerNorm((768,), eps=1e-12, elementwise_affine=True)\n",
              "              (dropout): Dropout(p=0.1, inplace=False)\n",
              "            )\n",
              "          )\n",
              "          (intermediate): BertIntermediate(\n",
              "            (dense): Linear(in_features=768, out_features=3072, bias=True)\n",
              "          )\n",
              "          (output): BertOutput(\n",
              "            (dense): Linear(in_features=3072, out_features=768, bias=True)\n",
              "            (LayerNorm): LayerNorm((768,), eps=1e-12, elementwise_affine=True)\n",
              "            (dropout): Dropout(p=0.1, inplace=False)\n",
              "          )\n",
              "        )\n",
              "      )\n",
              "    )\n",
              "    (pooler): BertPooler(\n",
              "      (dense): Linear(in_features=768, out_features=768, bias=True)\n",
              "      (activation): Tanh()\n",
              "    )\n",
              "  )\n",
              "  (dropout): Dropout(p=0.1, inplace=False)\n",
              "  (classifier): Linear(in_features=768, out_features=2, bias=True)\n",
              ")"
            ]
          },
          "metadata": {
            "tags": []
          },
          "execution_count": 51
        }
      ]
    },
    {
      "cell_type": "code",
      "metadata": {
        "id": "ue3ZRy67SeWo"
      },
      "source": [
        "def get_model_preds_labels(model, dataloader, mode='train'):\n",
        "  data_vectors = []\n",
        "  labels = []\n",
        "  ids = []\n",
        "\n",
        "  with torch.no_grad():\n",
        "      correct = 0\n",
        "      total = 0\n",
        "      for i, batch in enumerate(dataloader):\n",
        "        batch = tuple(t.to(device) for t in batch)\n",
        "        if mode=='test':\n",
        "            token_ids, b_input_ids, b_input_mask = batch\n",
        "            outputs = model(b_input_ids, token_type_ids=None, attention_mask=b_input_mask)\n",
        "            for point, tk_id in zip(F.softmax(outputs.logits).tolist(), token_ids.tolist()):\n",
        "              data_vectors.append(point)       \n",
        "              ids.append(tk_id)     \n",
        "        else:\n",
        "          # Unpack the inputs from our dataloader\n",
        "          token_ids, b_input_ids, b_input_mask, b_labels = batch\n",
        "          # Forward pass\n",
        "          outputs = model(b_input_ids, token_type_ids=None, attention_mask=b_input_mask)\n",
        "          for point, lab, tk_id in zip(F.softmax(outputs.logits).tolist(), b_labels.tolist(), token_ids.tolist()):\n",
        "            data_vectors.append(point)\n",
        "            labels.append(lab)\n",
        "            ids.append(tk_id)\n",
        "\n",
        "  if mode=='test':\n",
        "    return data_vectors, ids\n",
        "  else:\n",
        "    return data_vectors, labels, ids\n"
      ],
      "execution_count": 52,
      "outputs": []
    },
    {
      "cell_type": "markdown",
      "metadata": {
        "id": "uMKrY4EDTF2_"
      },
      "source": [
        "#Train Data"
      ]
    },
    {
      "cell_type": "code",
      "metadata": {
        "colab": {
          "base_uri": "https://localhost:8080/"
        },
        "id": "vg5HupkuS2ai",
        "outputId": "5f34ff03-1d18-49a4-f326-a7c680df5cc6"
      },
      "source": [
        "m2, _, train_ids2 = get_model_preds_labels(model2, train_dataloader_BERT)"
      ],
      "execution_count": 53,
      "outputs": [
        {
          "output_type": "stream",
          "text": [
            "/usr/local/lib/python3.7/dist-packages/ipykernel_launcher.py:22: UserWarning: Implicit dimension choice for softmax has been deprecated. Change the call to include dim=X as an argument.\n"
          ],
          "name": "stderr"
        }
      ]
    },
    {
      "cell_type": "code",
      "metadata": {
        "colab": {
          "base_uri": "https://localhost:8080/",
          "height": 191
        },
        "id": "i74CCsMZS2hE",
        "outputId": "47df6948-5047-48e6-fe43-2ecd763d4ab6"
      },
      "source": [
        "pred_labels = ['1' if np.argmax(np.array([each]), 1)[0]==0 else '0' for each in m2]\n",
        "train_pred_df = pd.DataFrame({'id': train_ids2, 'predicted_label': pred_labels})\n",
        "train_pred_df = df[[\"id\", \"label\"]].merge(train_pred_df, on='id', how='left')\n",
        "train_pred_df.head()"
      ],
      "execution_count": 54,
      "outputs": [
        {
          "output_type": "execute_result",
          "data": {
            "text/html": [
              "<div>\n",
              "<style scoped>\n",
              "    .dataframe tbody tr th:only-of-type {\n",
              "        vertical-align: middle;\n",
              "    }\n",
              "\n",
              "    .dataframe tbody tr th {\n",
              "        vertical-align: top;\n",
              "    }\n",
              "\n",
              "    .dataframe thead th {\n",
              "        text-align: right;\n",
              "    }\n",
              "</style>\n",
              "<table border=\"1\" class=\"dataframe\">\n",
              "  <thead>\n",
              "    <tr style=\"text-align: right;\">\n",
              "      <th></th>\n",
              "      <th>id</th>\n",
              "      <th>label</th>\n",
              "      <th>predicted_label</th>\n",
              "    </tr>\n",
              "  </thead>\n",
              "  <tbody>\n",
              "    <tr>\n",
              "      <th>0</th>\n",
              "      <td>10976</td>\n",
              "      <td>1</td>\n",
              "      <td>1</td>\n",
              "    </tr>\n",
              "    <tr>\n",
              "      <th>1</th>\n",
              "      <td>9066</td>\n",
              "      <td>0</td>\n",
              "      <td>1</td>\n",
              "    </tr>\n",
              "    <tr>\n",
              "      <th>2</th>\n",
              "      <td>1460</td>\n",
              "      <td>1</td>\n",
              "      <td>1</td>\n",
              "    </tr>\n",
              "    <tr>\n",
              "      <th>3</th>\n",
              "      <td>13142</td>\n",
              "      <td>0</td>\n",
              "      <td>0</td>\n",
              "    </tr>\n",
              "    <tr>\n",
              "      <th>4</th>\n",
              "      <td>10826</td>\n",
              "      <td>0</td>\n",
              "      <td>0</td>\n",
              "    </tr>\n",
              "  </tbody>\n",
              "</table>\n",
              "</div>"
            ],
            "text/plain": [
              "      id label predicted_label\n",
              "0  10976     1               1\n",
              "1   9066     0               1\n",
              "2   1460     1               1\n",
              "3  13142     0               0\n",
              "4  10826     0               0"
            ]
          },
          "metadata": {
            "tags": []
          },
          "execution_count": 54
        }
      ]
    },
    {
      "cell_type": "code",
      "metadata": {
        "colab": {
          "base_uri": "https://localhost:8080/"
        },
        "id": "ROVT0l-nS2mg",
        "outputId": "7c83b3bd-8338-44aa-97bc-b06035a160a5"
      },
      "source": [
        "train_pred_df.shape"
      ],
      "execution_count": 55,
      "outputs": [
        {
          "output_type": "execute_result",
          "data": {
            "text/plain": [
              "(9127, 3)"
            ]
          },
          "metadata": {
            "tags": []
          },
          "execution_count": 55
        }
      ]
    },
    {
      "cell_type": "code",
      "metadata": {
        "id": "DXQC_t9hS2sJ"
      },
      "source": [
        "from sklearn.metrics import confusion_matrix, accuracy_score, f1_score, precision_score, recall_score\n"
      ],
      "execution_count": 56,
      "outputs": []
    },
    {
      "cell_type": "code",
      "metadata": {
        "colab": {
          "base_uri": "https://localhost:8080/"
        },
        "id": "NWfKizGhS2zo",
        "outputId": "3247d015-dc96-4833-e657-39e2e5a9eb80"
      },
      "source": [
        "confusion_matrix(train_pred_df['label'].values, train_pred_df['predicted_label'].values)"
      ],
      "execution_count": 57,
      "outputs": [
        {
          "output_type": "execute_result",
          "data": {
            "text/plain": [
              "array([[4085,  495],\n",
              "       [1638, 2909]])"
            ]
          },
          "metadata": {
            "tags": []
          },
          "execution_count": 57
        }
      ]
    },
    {
      "cell_type": "code",
      "metadata": {
        "id": "9HqfDZKCS25-",
        "colab": {
          "base_uri": "https://localhost:8080/"
        },
        "outputId": "93374c27-52a9-43a8-eaba-9aa9765bcdd4"
      },
      "source": [
        "accuracy_score(train_pred_df['label'].values, train_pred_df['predicted_label'].values)"
      ],
      "execution_count": 58,
      "outputs": [
        {
          "output_type": "execute_result",
          "data": {
            "text/plain": [
              "0.7662977977429605"
            ]
          },
          "metadata": {
            "tags": []
          },
          "execution_count": 58
        }
      ]
    },
    {
      "cell_type": "code",
      "metadata": {
        "id": "vYMG3uxOS2_5",
        "colab": {
          "base_uri": "https://localhost:8080/"
        },
        "outputId": "b8c15001-a058-443e-e723-b98e74161238"
      },
      "source": [
        "precision_score(train_pred_df['label'].values, train_pred_df['predicted_label'].values, average='micro')"
      ],
      "execution_count": 59,
      "outputs": [
        {
          "output_type": "execute_result",
          "data": {
            "text/plain": [
              "0.7662977977429605"
            ]
          },
          "metadata": {
            "tags": []
          },
          "execution_count": 59
        }
      ]
    },
    {
      "cell_type": "code",
      "metadata": {
        "id": "sribuBxuS3FJ",
        "colab": {
          "base_uri": "https://localhost:8080/"
        },
        "outputId": "2f84ed31-4fec-447b-fbc6-2ab7793e1abb"
      },
      "source": [
        "recall_score(train_pred_df['label'].values, train_pred_df['predicted_label'].values, average='micro')"
      ],
      "execution_count": 60,
      "outputs": [
        {
          "output_type": "execute_result",
          "data": {
            "text/plain": [
              "0.7662977977429605"
            ]
          },
          "metadata": {
            "tags": []
          },
          "execution_count": 60
        }
      ]
    },
    {
      "cell_type": "code",
      "metadata": {
        "id": "-TRKLwz6S3Ll",
        "colab": {
          "base_uri": "https://localhost:8080/"
        },
        "outputId": "a47961ce-6591-46f3-a1ef-d5fa15c5e49f"
      },
      "source": [
        "f1_score(train_pred_df['label'].values, train_pred_df['predicted_label'].values, average='micro')"
      ],
      "execution_count": 61,
      "outputs": [
        {
          "output_type": "execute_result",
          "data": {
            "text/plain": [
              "0.7662977977429605"
            ]
          },
          "metadata": {
            "tags": []
          },
          "execution_count": 61
        }
      ]
    },
    {
      "cell_type": "markdown",
      "metadata": {
        "id": "DQm46Ap4TgBE"
      },
      "source": [
        "#Validation Data"
      ]
    },
    {
      "cell_type": "code",
      "metadata": {
        "id": "V2DIbdfTS3Ry",
        "colab": {
          "base_uri": "https://localhost:8080/"
        },
        "outputId": "a8d2bda6-42d7-4403-f3ca-bf240855fdb7"
      },
      "source": [
        "v2, _, v_ids2 = get_model_preds_labels(model2, val_dataloader_BERT)"
      ],
      "execution_count": 63,
      "outputs": [
        {
          "output_type": "stream",
          "text": [
            "/usr/local/lib/python3.7/dist-packages/ipykernel_launcher.py:22: UserWarning: Implicit dimension choice for softmax has been deprecated. Change the call to include dim=X as an argument.\n"
          ],
          "name": "stderr"
        }
      ]
    },
    {
      "cell_type": "code",
      "metadata": {
        "id": "rZcVzcfVTi3f",
        "colab": {
          "base_uri": "https://localhost:8080/",
          "height": 191
        },
        "outputId": "c17c4f34-e274-4a3e-fd2d-995bc9023cf5"
      },
      "source": [
        "val_pred_labels = ['1' if np.argmax(np.array([each]), 1)[0]==0 else '0' for each in v2]\n",
        "val_pred_df = pd.DataFrame({'id': v_ids2, 'predicted_label': val_pred_labels})\n",
        "val_pred_df = val_df[[\"id\", \"label\"]].merge(val_pred_df, on='id', how='left')\n",
        "val_pred_df.head()"
      ],
      "execution_count": 64,
      "outputs": [
        {
          "output_type": "execute_result",
          "data": {
            "text/html": [
              "<div>\n",
              "<style scoped>\n",
              "    .dataframe tbody tr th:only-of-type {\n",
              "        vertical-align: middle;\n",
              "    }\n",
              "\n",
              "    .dataframe tbody tr th {\n",
              "        vertical-align: top;\n",
              "    }\n",
              "\n",
              "    .dataframe thead th {\n",
              "        text-align: right;\n",
              "    }\n",
              "</style>\n",
              "<table border=\"1\" class=\"dataframe\">\n",
              "  <thead>\n",
              "    <tr style=\"text-align: right;\">\n",
              "      <th></th>\n",
              "      <th>id</th>\n",
              "      <th>label</th>\n",
              "      <th>predicted_label</th>\n",
              "    </tr>\n",
              "  </thead>\n",
              "  <tbody>\n",
              "    <tr>\n",
              "      <th>0</th>\n",
              "      <td>1214</td>\n",
              "      <td>1</td>\n",
              "      <td>0</td>\n",
              "    </tr>\n",
              "    <tr>\n",
              "      <th>1</th>\n",
              "      <td>17082</td>\n",
              "      <td>0</td>\n",
              "      <td>0</td>\n",
              "    </tr>\n",
              "    <tr>\n",
              "      <th>2</th>\n",
              "      <td>12317</td>\n",
              "      <td>1</td>\n",
              "      <td>0</td>\n",
              "    </tr>\n",
              "    <tr>\n",
              "      <th>3</th>\n",
              "      <td>5140</td>\n",
              "      <td>0</td>\n",
              "      <td>0</td>\n",
              "    </tr>\n",
              "    <tr>\n",
              "      <th>4</th>\n",
              "      <td>7287</td>\n",
              "      <td>1</td>\n",
              "      <td>1</td>\n",
              "    </tr>\n",
              "  </tbody>\n",
              "</table>\n",
              "</div>"
            ],
            "text/plain": [
              "      id label predicted_label\n",
              "0   1214     1               0\n",
              "1  17082     0               0\n",
              "2  12317     1               0\n",
              "3   5140     0               0\n",
              "4   7287     1               1"
            ]
          },
          "metadata": {
            "tags": []
          },
          "execution_count": 64
        }
      ]
    },
    {
      "cell_type": "code",
      "metadata": {
        "id": "ZeakCbwYTi8_",
        "colab": {
          "base_uri": "https://localhost:8080/"
        },
        "outputId": "b2b98728-999f-47e3-bebe-129cfff8fff8"
      },
      "source": [
        "confusion_matrix(val_pred_df['label'].values, val_pred_df['predicted_label'].values)"
      ],
      "execution_count": 65,
      "outputs": [
        {
          "output_type": "execute_result",
          "data": {
            "text/plain": [
              "array([[1369,  159],\n",
              "       [ 557,  957]])"
            ]
          },
          "metadata": {
            "tags": []
          },
          "execution_count": 65
        }
      ]
    },
    {
      "cell_type": "code",
      "metadata": {
        "id": "cvtKij8rTjF4",
        "colab": {
          "base_uri": "https://localhost:8080/"
        },
        "outputId": "5e5b8e3e-79bd-4770-922b-4765b8715693"
      },
      "source": [
        "accuracy_score(val_pred_df['label'].values, val_pred_df['predicted_label'].values)"
      ],
      "execution_count": 66,
      "outputs": [
        {
          "output_type": "execute_result",
          "data": {
            "text/plain": [
              "0.7646285338593031"
            ]
          },
          "metadata": {
            "tags": []
          },
          "execution_count": 66
        }
      ]
    },
    {
      "cell_type": "code",
      "metadata": {
        "id": "vs2C6vK1TjMh",
        "colab": {
          "base_uri": "https://localhost:8080/"
        },
        "outputId": "c663b1e7-fbc2-4e87-9ab8-1bbaccc9dff2"
      },
      "source": [
        "precision_score(val_pred_df['label'].values, val_pred_df['predicted_label'].values, average='micro')"
      ],
      "execution_count": 67,
      "outputs": [
        {
          "output_type": "execute_result",
          "data": {
            "text/plain": [
              "0.7646285338593031"
            ]
          },
          "metadata": {
            "tags": []
          },
          "execution_count": 67
        }
      ]
    },
    {
      "cell_type": "code",
      "metadata": {
        "id": "drw0mK5wTjTu",
        "colab": {
          "base_uri": "https://localhost:8080/"
        },
        "outputId": "61b8ff97-5a4f-4f98-bcd5-49b0823fee82"
      },
      "source": [
        "recall_score(val_pred_df['label'].values, val_pred_df['predicted_label'].values, average='micro')"
      ],
      "execution_count": 68,
      "outputs": [
        {
          "output_type": "execute_result",
          "data": {
            "text/plain": [
              "0.7646285338593031"
            ]
          },
          "metadata": {
            "tags": []
          },
          "execution_count": 68
        }
      ]
    },
    {
      "cell_type": "code",
      "metadata": {
        "id": "ZaQhJQd4TjZM",
        "colab": {
          "base_uri": "https://localhost:8080/"
        },
        "outputId": "f7ba44fd-824b-4adf-e32e-d69f5ddab270"
      },
      "source": [
        "f1_score(val_pred_df['label'].values, val_pred_df['predicted_label'].values, average='micro')"
      ],
      "execution_count": 69,
      "outputs": [
        {
          "output_type": "execute_result",
          "data": {
            "text/plain": [
              "0.7646285338593031"
            ]
          },
          "metadata": {
            "tags": []
          },
          "execution_count": 69
        }
      ]
    },
    {
      "cell_type": "markdown",
      "metadata": {
        "id": "vk6xE14bT4rO"
      },
      "source": [
        "#Test Data"
      ]
    },
    {
      "cell_type": "code",
      "metadata": {
        "id": "_bFjpbn1Tjhe",
        "colab": {
          "base_uri": "https://localhost:8080/"
        },
        "outputId": "c4611fa1-cfcd-4543-a88c-99b060c6bccb"
      },
      "source": [
        "t2, t_ids2 = get_model_preds_labels(model2, test_dataloader_BERT, 'test')"
      ],
      "execution_count": 70,
      "outputs": [
        {
          "output_type": "stream",
          "text": [
            "/usr/local/lib/python3.7/dist-packages/ipykernel_launcher.py:14: UserWarning: Implicit dimension choice for softmax has been deprecated. Change the call to include dim=X as an argument.\n",
            "  \n"
          ],
          "name": "stderr"
        }
      ]
    },
    {
      "cell_type": "code",
      "metadata": {
        "id": "E7yQLBvuTjua",
        "colab": {
          "base_uri": "https://localhost:8080/",
          "height": 191
        },
        "outputId": "cb58d8b1-eb8e-48c0-9015-889e4c779abc"
      },
      "source": [
        "test_pred_labels = ['1' if np.argmax(np.array([each]), 1)[0]==0 else '0' for each in t2]\n",
        "test_pred_df = pd.DataFrame({'id': t_ids2, 'predicted_label': test_pred_labels})\n",
        "test_pred_df = test_label_df[[\"id\", \"label\"]].merge(test_pred_df, on='id', how='left')\n",
        "test_pred_df.head()"
      ],
      "execution_count": 71,
      "outputs": [
        {
          "output_type": "execute_result",
          "data": {
            "text/html": [
              "<div>\n",
              "<style scoped>\n",
              "    .dataframe tbody tr th:only-of-type {\n",
              "        vertical-align: middle;\n",
              "    }\n",
              "\n",
              "    .dataframe tbody tr th {\n",
              "        vertical-align: top;\n",
              "    }\n",
              "\n",
              "    .dataframe thead th {\n",
              "        text-align: right;\n",
              "    }\n",
              "</style>\n",
              "<table border=\"1\" class=\"dataframe\">\n",
              "  <thead>\n",
              "    <tr style=\"text-align: right;\">\n",
              "      <th></th>\n",
              "      <th>id</th>\n",
              "      <th>label</th>\n",
              "      <th>predicted_label</th>\n",
              "    </tr>\n",
              "  </thead>\n",
              "  <tbody>\n",
              "    <tr>\n",
              "      <th>0</th>\n",
              "      <td>10659</td>\n",
              "      <td>1</td>\n",
              "      <td>1</td>\n",
              "    </tr>\n",
              "    <tr>\n",
              "      <th>1</th>\n",
              "      <td>6288</td>\n",
              "      <td>0</td>\n",
              "      <td>0</td>\n",
              "    </tr>\n",
              "    <tr>\n",
              "      <th>2</th>\n",
              "      <td>13383</td>\n",
              "      <td>0</td>\n",
              "      <td>0</td>\n",
              "    </tr>\n",
              "    <tr>\n",
              "      <th>3</th>\n",
              "      <td>14433</td>\n",
              "      <td>1</td>\n",
              "      <td>1</td>\n",
              "    </tr>\n",
              "    <tr>\n",
              "      <th>4</th>\n",
              "      <td>4695</td>\n",
              "      <td>1</td>\n",
              "      <td>1</td>\n",
              "    </tr>\n",
              "  </tbody>\n",
              "</table>\n",
              "</div>"
            ],
            "text/plain": [
              "      id label predicted_label\n",
              "0  10659     1               1\n",
              "1   6288     0               0\n",
              "2  13383     0               0\n",
              "3  14433     1               1\n",
              "4   4695     1               1"
            ]
          },
          "metadata": {
            "tags": []
          },
          "execution_count": 71
        }
      ]
    },
    {
      "cell_type": "code",
      "metadata": {
        "id": "SMSW-qsuTj2l",
        "colab": {
          "base_uri": "https://localhost:8080/"
        },
        "outputId": "41b4421c-6dbe-4af5-be60-ace1d48e0c15"
      },
      "source": [
        "confusion_matrix(test_pred_df['label'].values, test_pred_df['predicted_label'].values)"
      ],
      "execution_count": 72,
      "outputs": [
        {
          "output_type": "execute_result",
          "data": {
            "text/plain": [
              "array([[1317,  196],\n",
              "       [ 575,  955]])"
            ]
          },
          "metadata": {
            "tags": []
          },
          "execution_count": 72
        }
      ]
    },
    {
      "cell_type": "code",
      "metadata": {
        "id": "LlWazUrZTj-T",
        "colab": {
          "base_uri": "https://localhost:8080/"
        },
        "outputId": "04186fd7-e4b1-41cc-cc81-8b8d804ba98c"
      },
      "source": [
        "accuracy_score(test_pred_df['label'].values, test_pred_df['predicted_label'].values)"
      ],
      "execution_count": 73,
      "outputs": [
        {
          "output_type": "execute_result",
          "data": {
            "text/plain": [
              "0.7466316135392704"
            ]
          },
          "metadata": {
            "tags": []
          },
          "execution_count": 73
        }
      ]
    },
    {
      "cell_type": "code",
      "metadata": {
        "id": "3OsgE2V1TkGa",
        "colab": {
          "base_uri": "https://localhost:8080/"
        },
        "outputId": "d04ba098-3ab6-49c5-f2f4-60d4c1334628"
      },
      "source": [
        "precision_score(test_pred_df['label'].values, test_pred_df['predicted_label'].values, average='micro')"
      ],
      "execution_count": 74,
      "outputs": [
        {
          "output_type": "execute_result",
          "data": {
            "text/plain": [
              "0.7466316135392704"
            ]
          },
          "metadata": {
            "tags": []
          },
          "execution_count": 74
        }
      ]
    },
    {
      "cell_type": "code",
      "metadata": {
        "id": "9mwnPDr3TkOo",
        "colab": {
          "base_uri": "https://localhost:8080/"
        },
        "outputId": "97a7ff0c-3975-4cb9-b6b6-66fbb5e339cd"
      },
      "source": [
        "recall_score(test_pred_df['label'].values, test_pred_df['predicted_label'].values, average='micro')"
      ],
      "execution_count": 75,
      "outputs": [
        {
          "output_type": "execute_result",
          "data": {
            "text/plain": [
              "0.7466316135392704"
            ]
          },
          "metadata": {
            "tags": []
          },
          "execution_count": 75
        }
      ]
    },
    {
      "cell_type": "code",
      "metadata": {
        "id": "MFcAJ7YQUHxG",
        "colab": {
          "base_uri": "https://localhost:8080/"
        },
        "outputId": "c60359ff-3c43-4f84-c93b-f47d0c2a67f1"
      },
      "source": [
        "f1_score(test_pred_df['label'].values, test_pred_df['predicted_label'].values, average='micro')"
      ],
      "execution_count": 76,
      "outputs": [
        {
          "output_type": "execute_result",
          "data": {
            "text/plain": [
              "0.7466316135392704"
            ]
          },
          "metadata": {
            "tags": []
          },
          "execution_count": 76
        }
      ]
    }
  ]
}